{
 "cells": [
  {
   "cell_type": "code",
   "execution_count": 1,
   "metadata": {},
   "outputs": [],
   "source": [
    "import runner"
   ]
  },
  {
   "cell_type": "code",
   "execution_count": 2,
   "metadata": {},
   "outputs": [
    {
     "name": "stdout",
     "output_type": "stream",
     "text": [
      "4 nodes, 5 links, \n",
      "1 OD pairs\n"
     ]
    }
   ],
   "source": [
    "p = runner.generate_problem(problem_name='Braess')"
   ]
  },
  {
   "cell_type": "code",
   "execution_count": 3,
   "metadata": {},
   "outputs": [
    {
     "name": "stdout",
     "output_type": "stream",
     "text": [
      "Set parameter Username\n",
      "Academic license - for non-commercial use only - expires 2024-10-18\n",
      "{(Node(1), Node(1)): 0, (Node(1), Node(3)): 1e-08, (Node(1), Node(4)): 10.00000001, (Node(1), Node(2)): 10.000000020000002, (Node(3), Node(1)): 1e+100, (Node(3), Node(3)): 0, (Node(3), Node(4)): 10.0, (Node(3), Node(2)): 10.00000001, (Node(4), Node(1)): 1e+100, (Node(4), Node(3)): 1e+100, (Node(4), Node(4)): 0, (Node(4), Node(2)): 1e-08, (Node(2), Node(1)): 1e+100, (Node(2), Node(3)): 1e+100, (Node(2), Node(4)): 1e+100, (Node(2), Node(2)): 0}\n",
      "10.000000020000002\n"
     ]
    }
   ],
   "source": [
    "m = p.get_gp_model(2)"
   ]
  },
  {
   "cell_type": "code",
   "execution_count": 4,
   "metadata": {},
   "outputs": [],
   "source": [
    "m.update()"
   ]
  },
  {
   "cell_type": "code",
   "execution_count": 6,
   "metadata": {},
   "outputs": [],
   "source": [
    "# m.computeIIS()"
   ]
  },
  {
   "cell_type": "code",
   "execution_count": 7,
   "metadata": {},
   "outputs": [],
   "source": [
    "m.write('model.lp')\n",
    "# m.write('model.ilp')"
   ]
  },
  {
   "cell_type": "code",
   "execution_count": 8,
   "metadata": {},
   "outputs": [
    {
     "name": "stdout",
     "output_type": "stream",
     "text": [
      "Gurobi Optimizer version 10.0.3 build v10.0.3rc0 (linux64)\n",
      "\n",
      "CPU model: Intel(R) Core(TM) i7-9750H CPU @ 2.60GHz, instruction set [SSE2|AVX|AVX2]\n",
      "Thread count: 6 physical cores, 12 logical processors, using up to 12 threads\n",
      "\n",
      "Optimize a model with 21 rows, 28 columns and 44 nonzeros\n",
      "Model fingerprint: 0x8cc9e26a\n",
      "Model has 4 general constraints\n",
      "Variable types: 24 continuous, 4 integer (4 binary)\n",
      "Coefficient statistics:\n",
      "  Matrix range     [1e+00, 1e+01]\n",
      "  Objective range  [1e+00, 1e+00]\n",
      "  Bounds range     [1e+00, 1e+00]\n",
      "  RHS range        [1e-08, 1e+01]\n",
      "Presolve removed 10 rows and 14 columns\n",
      "Presolve time: 0.01s\n",
      "Presolved: 11 rows, 14 columns, 32 nonzeros\n",
      "Variable types: 6 continuous, 8 integer (8 binary)\n",
      "Found heuristic solution: objective 10.0000000\n",
      "\n",
      "Root relaxation: objective -2.000000e-08, 5 iterations, 0.00 seconds (0.00 work units)\n",
      "\n",
      "    Nodes    |    Current Node    |     Objective Bounds      |     Work\n",
      " Expl Unexpl |  Obj  Depth IntInf | Incumbent    BestBd   Gap | It/Node Time\n",
      "\n",
      "*    0     0               0      -0.0000000   -0.00000  0.00%     -    0s\n",
      "\n",
      "Explored 1 nodes (5 simplex iterations) in 0.06 seconds (0.00 work units)\n",
      "Thread count was 12 (of 12 available processors)\n",
      "\n",
      "Solution count 2: -2e-08 10 \n",
      "\n",
      "Optimal solution found (tolerance 1.00e-04)\n",
      "Best objective -2.000000165481e-08, best bound -2.000000165481e-08, gap 0.0000%\n"
     ]
    }
   ],
   "source": [
    "m.optimize()"
   ]
  },
  {
   "cell_type": "code",
   "execution_count": 17,
   "metadata": {},
   "outputs": [
    {
     "data": {
      "text/plain": [
       "[<gurobi.Var is_xfc[1] (value 1.0)>,\n",
       " <gurobi.Var is_xfc[3] (value -0.0)>,\n",
       " <gurobi.Var is_xfc[4] (value 1.0)>,\n",
       " <gurobi.Var is_xfc[2] (value -0.0)>,\n",
       " <gurobi.Var dist_Node(1)_Node(1) (value 0.0)>,\n",
       " <gurobi.Var xfc_Node(1)_Node(1) (value 10.000000020000002)>,\n",
       " <gurobi.Var dist_Node(1)_Node(3) (value 1e-08)>,\n",
       " <gurobi.Var xfc_Node(1)_Node(3) (value 1e-08)>,\n",
       " <gurobi.Var dist_Node(1)_Node(4) (value 10.00000001)>,\n",
       " <gurobi.Var xfc_Node(1)_Node(4) (value 20.000000030000002)>,\n",
       " <gurobi.Var dist_Node(1)_Node(2) (value 10.000000020000002)>,\n",
       " <gurobi.Var xfc_Node(1)_Node(2) (value 10.000000020000002)>,\n",
       " <gurobi.Var dist_Node(3)_Node(3) (value 0.0)>,\n",
       " <gurobi.Var xfc_Node(3)_Node(3) (value 0.0)>,\n",
       " <gurobi.Var dist_Node(3)_Node(4) (value 10.0)>,\n",
       " <gurobi.Var xfc_Node(3)_Node(4) (value 20.00000002)>,\n",
       " <gurobi.Var dist_Node(3)_Node(2) (value 10.00000001)>,\n",
       " <gurobi.Var xfc_Node(3)_Node(2) (value 10.00000001)>,\n",
       " <gurobi.Var dist_Node(4)_Node(4) (value 0.0)>,\n",
       " <gurobi.Var xfc_Node(4)_Node(4) (value 10.000000020000002)>,\n",
       " <gurobi.Var dist_Node(4)_Node(2) (value 1e-08)>,\n",
       " <gurobi.Var xfc_Node(4)_Node(2) (value 1e-08)>,\n",
       " <gurobi.Var dist_Node(2)_Node(2) (value 0.0)>,\n",
       " <gurobi.Var xfc_Node(2)_Node(2) (value 0.0)>,\n",
       " <gurobi.Var min_Node(1) (value 0.0)>,\n",
       " <gurobi.Var min_Node(3) (value -2.000000165480742e-08)>,\n",
       " <gurobi.Var min_Node(4) (value 0.0)>,\n",
       " <gurobi.Var min_Node(2) (value 0.0)>]"
      ]
     },
     "execution_count": 17,
     "metadata": {},
     "output_type": "execute_result"
    }
   ],
   "source": [
    "m.getVars()"
   ]
  },
  {
   "cell_type": "code",
   "execution_count": null,
   "metadata": {},
   "outputs": [],
   "source": []
  },
  {
   "cell_type": "code",
   "execution_count": null,
   "metadata": {},
   "outputs": [],
   "source": []
  }
 ],
 "metadata": {
  "kernelspec": {
   "display_name": "traffic",
   "language": "python",
   "name": "python3"
  },
  "language_info": {
   "codemirror_mode": {
    "name": "ipython",
    "version": 3
   },
   "file_extension": ".py",
   "mimetype": "text/x-python",
   "name": "python",
   "nbconvert_exporter": "python",
   "pygments_lexer": "ipython3",
   "version": "3.11.5"
  }
 },
 "nbformat": 4,
 "nbformat_minor": 2
}
