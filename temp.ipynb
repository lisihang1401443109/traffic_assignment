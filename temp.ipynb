{
 "cells": [
  {
   "cell_type": "code",
   "execution_count": 1,
   "metadata": {},
   "outputs": [],
   "source": [
    "import runner"
   ]
  },
  {
   "cell_type": "code",
   "execution_count": 2,
   "metadata": {},
   "outputs": [
    {
     "name": "stdout",
     "output_type": "stream",
     "text": [
      "416 nodes, 914 links, \n",
      "1406 OD pairs\n"
     ]
    }
   ],
   "source": [
    "anaheim = runner.Experiment('./inputs/Anaheim/', './temp/', threshold=0.001)"
   ]
  },
  {
   "cell_type": "code",
   "execution_count": 4,
   "metadata": {},
   "outputs": [
    {
     "name": "stdout",
     "output_type": "stream",
     "text": [
      "Experiment(self.input_path='./inputs/Anaheim/', self.output_path='./temp/', self.algorithm='dijkstra', self.iteration='constant', self.alpha=0.15, self.threashold=0.001, self.maxIter=20)\n",
      "iter: 1, newtime: 1339602.4122650092, oldtime: 1342878.8850481694\n",
      "iter: 2, newtime: 1328276.0320653012, oldtime: 1339602.4122650092\n",
      "iter: 3, newtime: 1324144.8560495873, oldtime: 1328276.0320653012\n"
     ]
    }
   ],
   "source": [
    "anaheim.run()"
   ]
  },
  {
   "cell_type": "code",
   "execution_count": null,
   "metadata": {},
   "outputs": [],
   "source": []
  }
 ],
 "metadata": {
  "kernelspec": {
   "display_name": "base",
   "language": "python",
   "name": "python3"
  },
  "language_info": {
   "codemirror_mode": {
    "name": "ipython",
    "version": 3
   },
   "file_extension": ".py",
   "mimetype": "text/x-python",
   "name": "python",
   "nbconvert_exporter": "python",
   "pygments_lexer": "ipython3",
   "version": "3.9.13"
  },
  "orig_nbformat": 4
 },
 "nbformat": 4,
 "nbformat_minor": 2
}
