{
 "cells": [
  {
   "cell_type": "code",
   "execution_count": 1,
   "metadata": {},
   "outputs": [],
   "source": [
    "import runner\n",
    "from runner import ALPHA, THRESHOLD, MAXITER"
   ]
  },
  {
   "cell_type": "code",
   "execution_count": 2,
   "metadata": {},
   "outputs": [
    {
     "name": "stdout",
     "output_type": "stream",
     "text": [
      "24 nodes, 76 links, \n",
      "576 OD pairs\n"
     ]
    }
   ],
   "source": [
    "exp = runner.Experiment(input_path = './inputs/SiouxFalls/', output_path = './outputs/', algorithm = 'dijkstra', method = 'automatic', xfc=[3, 5, 7], alpha=ALPHA, threshold=THRESHOLD, maxIter = MAXITER)"
   ]
  },
  {
   "cell_type": "code",
   "execution_count": 3,
   "metadata": {},
   "outputs": [
    {
     "name": "stdout",
     "output_type": "stream",
     "text": [
      "Experiment(self.input_path='./inputs/SiouxFalls/'\n",
      "self.output_path='./outputs/'\n",
      "self.algorithm='dijkstra'\n",
      "self.method='automatic'\n",
      "self.alpha=0.15\n",
      "self.threashold=0.001\n",
      "self.maxIter=100\n",
      "self.xfc=[3, 5, 7]\n",
      ")\n"
     ]
    },
    {
     "ename": "KeyError",
     "evalue": "(Node(12), Node(1))",
     "output_type": "error",
     "traceback": [
      "\u001b[0;31m---------------------------------------------------------------------------\u001b[0m",
      "\u001b[0;31mKeyError\u001b[0m                                  Traceback (most recent call last)",
      "Cell \u001b[0;32mIn[3], line 1\u001b[0m\n\u001b[0;32m----> 1\u001b[0m exp\u001b[39m.\u001b[39;49mrun()\n",
      "File \u001b[0;32m~/workspace/traffic_proj/runner.py:30\u001b[0m, in \u001b[0;36mExperiment.run\u001b[0;34m(self)\u001b[0m\n\u001b[1;32m     28\u001b[0m \u001b[39mprint\u001b[39m(\u001b[39mself\u001b[39m)\n\u001b[1;32m     29\u001b[0m \u001b[39m# print(self.p)\u001b[39;00m\n\u001b[0;32m---> 30\u001b[0m log \u001b[39m=\u001b[39m \u001b[39mself\u001b[39;49m\u001b[39m.\u001b[39;49mp\u001b[39m.\u001b[39;49mrun(algorithm\u001b[39m=\u001b[39;49m\u001b[39mself\u001b[39;49m\u001b[39m.\u001b[39;49malgorithm, alpha\u001b[39m=\u001b[39;49m\u001b[39mself\u001b[39;49m\u001b[39m.\u001b[39;49malpha, threshold\u001b[39m=\u001b[39;49m \u001b[39mself\u001b[39;49m\u001b[39m.\u001b[39;49mthreashold, maxIter \u001b[39m=\u001b[39;49m \u001b[39mself\u001b[39;49m\u001b[39m.\u001b[39;49mmaxIter, method \u001b[39m=\u001b[39;49m \u001b[39mself\u001b[39;49m\u001b[39m.\u001b[39;49mmethod, xfc\u001b[39m=\u001b[39;49m\u001b[39mself\u001b[39;49m\u001b[39m.\u001b[39;49mxfc)\n\u001b[1;32m     31\u001b[0m \u001b[39mself\u001b[39m\u001b[39m.\u001b[39mp\u001b[39m.\u001b[39moutput_result(\u001b[39mf\u001b[39m\u001b[39m'\u001b[39m\u001b[39m{\u001b[39;00m\u001b[39mself\u001b[39m\u001b[39m.\u001b[39moutput_path\u001b[39m}\u001b[39;00m\u001b[39m{\u001b[39;00m\u001b[39mself\u001b[39m\u001b[39m.\u001b[39malgorithm\u001b[39m}\u001b[39;00m\u001b[39m_\u001b[39m\u001b[39m{\u001b[39;00m\u001b[39mself\u001b[39m\u001b[39m.\u001b[39mmethod\u001b[39m}\u001b[39;00m\u001b[39m_\u001b[39m\u001b[39m{\u001b[39;00m\u001b[39mself\u001b[39m\u001b[39m.\u001b[39malpha\u001b[39m}\u001b[39;00m\u001b[39m.csv\u001b[39m\u001b[39m'\u001b[39m, log)\n",
      "File \u001b[0;32m~/workspace/traffic_proj/model.py:432\u001b[0m, in \u001b[0;36mProblem.run\u001b[0;34m(self, algorithm, alpha, threshold, maxIter, method, xfc)\u001b[0m\n\u001b[1;32m    429\u001b[0m     \u001b[39melse\u001b[39;00m:\n\u001b[1;32m    430\u001b[0m         \u001b[39mself\u001b[39m\u001b[39m.\u001b[39moptimal(alpha\u001b[39m=\u001b[39malpha)\n\u001b[0;32m--> 432\u001b[0m optimal_func(alpha \u001b[39m=\u001b[39;49m \u001b[39m1.0\u001b[39;49m)\n\u001b[1;32m    433\u001b[0m time_before \u001b[39m=\u001b[39m \u001b[39m0\u001b[39m\n\u001b[1;32m    434\u001b[0m time_after \u001b[39m=\u001b[39m \u001b[39mself\u001b[39m\u001b[39m.\u001b[39mget_total_time()\n",
      "File \u001b[0;32m~/workspace/traffic_proj/model.py:428\u001b[0m, in \u001b[0;36mProblem.run.<locals>.optimal_func\u001b[0;34m(alpha)\u001b[0m\n\u001b[1;32m    426\u001b[0m \u001b[39mdef\u001b[39;00m \u001b[39moptimal_func\u001b[39m(alpha):\n\u001b[1;32m    427\u001b[0m     \u001b[39mif\u001b[39;00m xfc:\n\u001b[0;32m--> 428\u001b[0m         \u001b[39mself\u001b[39;49m\u001b[39m.\u001b[39;49mxfc_optimal(alpha\u001b[39m=\u001b[39;49malpha)\n\u001b[1;32m    429\u001b[0m     \u001b[39melse\u001b[39;00m:\n\u001b[1;32m    430\u001b[0m         \u001b[39mself\u001b[39m\u001b[39m.\u001b[39moptimal(alpha\u001b[39m=\u001b[39malpha)\n",
      "File \u001b[0;32m~/workspace/traffic_proj/model.py:381\u001b[0m, in \u001b[0;36mProblem.xfc_optimal\u001b[0;34m(self, alpha)\u001b[0m\n\u001b[1;32m    377\u001b[0m     curr \u001b[39m=\u001b[39m xfc_backward[min_xfc][\u001b[39m'\u001b[39m\u001b[39mprev\u001b[39m\u001b[39m'\u001b[39m][curr] \u001b[39m# type: ignore\u001b[39;00m\n\u001b[1;32m    380\u001b[0m \u001b[39mself\u001b[39m\u001b[39m.\u001b[39mgraph\u001b[39m.\u001b[39mdiscount_flow(alpha\u001b[39m=\u001b[39malpha)\n\u001b[0;32m--> 381\u001b[0m \u001b[39mself\u001b[39;49m\u001b[39m.\u001b[39;49mgraph\u001b[39m.\u001b[39;49mperform_change(staged_changes)\n",
      "File \u001b[0;32m~/workspace/traffic_proj/model.py:281\u001b[0m, in \u001b[0;36mGraph.perform_change\u001b[0;34m(self, staged_changes)\u001b[0m\n\u001b[1;32m    278\u001b[0m \u001b[39mdef\u001b[39;00m \u001b[39mperform_change\u001b[39m(\u001b[39mself\u001b[39m, staged_changes: \u001b[39mdict\u001b[39m[\u001b[39mtuple\u001b[39m[Node, Node], \u001b[39mfloat\u001b[39m]) \u001b[39m-\u001b[39m\u001b[39m>\u001b[39m \u001b[39mNone\u001b[39;00m:\n\u001b[1;32m    279\u001b[0m     \u001b[39m# print('performing changes:', staged_changes)\u001b[39;00m\n\u001b[1;32m    280\u001b[0m     \u001b[39mfor\u001b[39;00m (origin, destination), flow \u001b[39min\u001b[39;00m staged_changes\u001b[39m.\u001b[39mitems():\n\u001b[0;32m--> 281\u001b[0m         \u001b[39mself\u001b[39;49m\u001b[39m.\u001b[39;49mlinks[(origin, destination)]\u001b[39m.\u001b[39mflow \u001b[39m+\u001b[39m\u001b[39m=\u001b[39m flow\n",
      "\u001b[0;31mKeyError\u001b[0m: (Node(12), Node(1))"
     ]
    }
   ],
   "source": [
    "exp.run()"
   ]
  },
  {
   "cell_type": "code",
   "execution_count": null,
   "metadata": {},
   "outputs": [],
   "source": []
  }
 ],
 "metadata": {
  "kernelspec": {
   "display_name": "base",
   "language": "python",
   "name": "python3"
  },
  "language_info": {
   "codemirror_mode": {
    "name": "ipython",
    "version": 3
   },
   "file_extension": ".py",
   "mimetype": "text/x-python",
   "name": "python",
   "nbconvert_exporter": "python",
   "pygments_lexer": "ipython3",
   "version": "3.11.4"
  },
  "orig_nbformat": 4
 },
 "nbformat": 4,
 "nbformat_minor": 2
}
