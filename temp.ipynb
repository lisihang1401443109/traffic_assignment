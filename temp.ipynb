{
 "cells": [
  {
   "cell_type": "code",
   "execution_count": 1,
   "metadata": {},
   "outputs": [],
   "source": [
    "import runner\n",
    "from runner import ALPHA, THRESHOLD, MAXITER"
   ]
  },
  {
   "cell_type": "code",
   "execution_count": 2,
   "metadata": {},
   "outputs": [
    {
     "name": "stdout",
     "output_type": "stream",
     "text": [
      "930 nodes, 2522 links, \n",
      "7922 OD pairs\n"
     ]
    }
   ],
   "source": [
    "exp = runner.Experiment(input_path = './inputs/Barcelona/', output_path = './outputs/', algorithm = 'dijkstra', method = 'constant', xfc=[365, 752, 881], alpha=0.05, threshold=THRESHOLD, maxIter = MAXITER)"
   ]
  },
  {
   "cell_type": "code",
   "execution_count": 3,
   "metadata": {},
   "outputs": [
    {
     "name": "stdout",
     "output_type": "stream",
     "text": [
      "Experiment(self.input_path='./inputs/Barcelona/'\n",
      "self.output_path='./outputs/'\n",
      "self.algorithm='dijkstra'\n",
      "self.method='constant'\n",
      "self.alpha=0.05\n",
      "self.threashold=0.001\n",
      "self.maxIter=100\n",
      "self.xfc=[3]\n",
      ")\n",
      "iteration_number=2\n",
      "time_after=9.474134483455038e+20, time_before=2.3644365428998474e+21, gap=1.495675512131407\n",
      "iteration_number=3\n",
      "time_after=3.796220477174254e+20, time_before=9.474134483455038e+20, gap=1.495675512110188\n",
      "iteration_number=4\n",
      "time_after=1.52111941591381e+20, time_before=3.796220477174254e+20, gap=1.4956755120331438\n",
      "iteration_number=5\n",
      "time_after=6.0950208016616915e+19, time_before=1.52111941591381e+20, gap=1.495675511885219\n",
      "iteration_number=6\n",
      "time_after=2.4422328837855506e+19, time_before=6.0950208016616915e+19, gap=1.4956755115892904\n",
      "iteration_number=7\n",
      "time_after=9.785876135766399e+18, time_before=2.4422328837855506e+19, gap=1.4956711590282996\n",
      "iteration_number=8\n",
      "time_after=3.921160151029618e+18, time_before=9.785876135766399e+18, gap=1.4956583661080058\n",
      "iteration_number=9\n",
      "time_after=1.5711818865133181e+18, time_before=3.921160151029618e+18, gap=1.4956755068830665\n",
      "iteration_number=10\n",
      "time_after=6.295617709026717e+17, time_before=1.5711818865133181e+18, gap=1.4956754986258813\n",
      "iteration_number=11\n",
      "time_after=2.5226107176325802e+17, time_before=6.295617709026717e+17, gap=1.495675478194681\n",
      "iteration_number=12\n",
      "time_after=1.0107927846455862e+17, time_before=2.5226107176325802e+17, gap=1.4956754301694803\n",
      "iteration_number=13\n",
      "time_after=4.050177434124801e+16, time_before=1.0107927846455862e+17, gap=1.4956753156766514\n",
      "iteration_number=14\n",
      "time_after=1.622878712569165e+16, time_before=4.050177434124801e+16, gap=1.495674755455385\n",
      "iteration_number=15\n",
      "time_after=6502767124739726.0, time_before=1.622878712569165e+16, gap=1.4956740437389122\n",
      "iteration_number=16\n",
      "time_after=2605617342429746.0, time_before=6502767124739726.0, gap=1.495672337932736\n",
      "iteration_number=17\n",
      "time_after=1044057176136147.6, time_before=2605617342429746.0, gap=1.4956653734928853\n",
      "iteration_number=18\n",
      "time_after=418350180703970.06, time_before=1044057176136147.6, gap=1.4956536994421326\n",
      "iteration_number=19\n",
      "time_after=167677246531252.4, time_before=418350180703970.06, gap=1.494972868164293\n",
      "iteration_number=20\n",
      "time_after=67190656804262.27, time_before=167677246531252.4, gap=1.4955440905976634\n",
      "iteration_number=21\n",
      "time_after=26926400287787.336, time_before=67190656804262.27, gap=1.49534494348051\n",
      "iteration_number=22\n",
      "time_after=38638467764973.484, time_before=26926400287787.336, gap=-0.3031193562960942\n",
      "iteration_number=23\n",
      "time_after=70042736304010.68, time_before=38638467764973.484, gap=-0.4483586763762536\n",
      "iteration_number=24\n",
      "time_after=28101723853905.09, time_before=70042736304010.68, gap=1.4924711618457298\n",
      "iteration_number=25\n",
      "time_after=11263002491609.074, time_before=28101723853905.09, gap=1.4950472908836563\n",
      "iteration_number=26\n",
      "time_after=4515935402609.748, time_before=11263002491609.074, gap=1.494057484768319\n",
      "iteration_number=27\n",
      "time_after=1821300855822.454, time_before=4515935402609.748, gap=1.4795109430563924\n",
      "iteration_number=28\n",
      "time_after=732761276107.9459, time_before=1821300855822.454, gap=1.4855309842467048\n",
      "iteration_number=29\n",
      "time_after=296885441134.774, time_before=732761276107.9459, gap=1.468161703407012\n",
      "iteration_number=30\n",
      "time_after=122199525755.81744, time_before=296885441134.774, gap=1.4295138569360644\n",
      "iteration_number=31\n",
      "time_after=54705064375.43379, time_before=122199525755.81744, gap=1.2337881721000796\n",
      "iteration_number=32\n"
     ]
    }
   ],
   "source": [
    "exp.run()"
   ]
  },
  {
   "cell_type": "code",
   "execution_count": null,
   "metadata": {},
   "outputs": [
    {
     "name": "stdout",
     "output_type": "stream",
     "text": [
      "calculating xfc distances\n",
      "xfc_forward={Node(3): {'dist': {Node(1): inf, Node(3): 0, Node(4): 13.810089381636676, Node(2): 51.910983208003444}, 'prev': {Node(2): Node(4), Node(4): Node(3)}}}\n",
      "xfc_backward={Node(3): {'dist': {Node(1): 60.00000000999998, Node(3): 0, Node(4): inf, Node(2): inf}, 'prev': {Node(1): Node(3)}}}\n",
      "finished calculating xfc distances\n",
      "{(Node(4), Node(2)): 0.06, (Node(3), Node(4)): 0.06, (Node(1), Node(3)): 0.06}\n",
      "finished assigning path\n",
      "finished performing changes\n"
     ]
    }
   ],
   "source": [
    "exp.p.xfc_optimal(0.01)"
   ]
  },
  {
   "cell_type": "code",
   "execution_count": null,
   "metadata": {},
   "outputs": [
    {
     "name": "stdout",
     "output_type": "stream",
     "text": [
      "   start  end      flow  travel_time\n",
      "2      1    4  0.000000    50.000000\n",
      "4      1    3  6.000000    60.000000\n",
      "0      3    4  3.831988    13.831988\n",
      "3      3    2  2.168012    52.168012\n",
      "1      4    2  3.831988    38.319885\n"
     ]
    },
    {
     "data": {
      "text/plain": [
       "(None, 672.946227981112)"
      ]
     },
     "execution_count": 89,
     "metadata": {},
     "output_type": "execute_result"
    }
   ],
   "source": [
    "exp.p.output_result(), exp.p.get_total_time()"
   ]
  },
  {
   "cell_type": "code",
   "execution_count": null,
   "metadata": {},
   "outputs": [],
   "source": []
  },
  {
   "cell_type": "code",
   "execution_count": null,
   "metadata": {},
   "outputs": [],
   "source": []
  },
  {
   "cell_type": "code",
   "execution_count": null,
   "metadata": {},
   "outputs": [],
   "source": []
  }
 ],
 "metadata": {
  "kernelspec": {
   "display_name": "base",
   "language": "python",
   "name": "python3"
  },
  "language_info": {
   "codemirror_mode": {
    "name": "ipython",
    "version": 3
   },
   "file_extension": ".py",
   "mimetype": "text/x-python",
   "name": "python",
   "nbconvert_exporter": "python",
   "pygments_lexer": "ipython3",
   "version": "3.11.4"
  },
  "orig_nbformat": 4
 },
 "nbformat": 4,
 "nbformat_minor": 2
}
