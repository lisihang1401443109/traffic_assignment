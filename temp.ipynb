{
 "cells": [
  {
   "cell_type": "code",
   "execution_count": 1,
   "metadata": {},
   "outputs": [],
   "source": [
    "import runner"
   ]
  },
  {
   "cell_type": "code",
   "execution_count": 2,
   "metadata": {},
   "outputs": [
    {
     "name": "stdout",
     "output_type": "stream",
     "text": [
      "416 nodes, 914 links, \n",
      "1406 OD pairs\n"
     ]
    }
   ],
   "source": [
    "anaheim = runner.Experiment('./inputs/Anaheim/', './temp/', threshold=0.001)"
   ]
  },
  {
   "cell_type": "code",
   "execution_count": 3,
   "metadata": {},
   "outputs": [
    {
     "name": "stdout",
     "output_type": "stream",
     "text": [
      "Experiment(self.input_path='./inputs/Anaheim/', self.output_path='./temp/', self.algorithm='dijkstra', self.iteration='constant', self.alpha=0.15, self.threashold=0.001, self.maxIter=20)\n"
     ]
    },
    {
     "name": "stdout",
     "output_type": "stream",
     "text": [
      "iter: 1, newtime: 1601325.7038876885, oldtime: 1646095.3518236794\n",
      "iter: 2, newtime: 1445051.3469862782, oldtime: 1601325.7038876885\n",
      "iter: 3, newtime: 1378232.8004930946, oldtime: 1445051.3469862782\n",
      "iter: 4, newtime: 1349054.6533970765, oldtime: 1378232.8004930946\n",
      "iter: 5, newtime: 1334154.0733680367, oldtime: 1349054.6533970765\n",
      "iter: 6, newtime: 1329252.398112338, oldtime: 1334154.0733680367\n",
      "iter: 7, newtime: 1326527.4488557691, oldtime: 1329252.398112338\n",
      "iter: 8, newtime: 1325379.112734777, oldtime: 1326527.4488557691\n",
      "converged after 8 iterations\n"
     ]
    }
   ],
   "source": [
    "anaheim.run()"
   ]
  },
  {
   "cell_type": "code",
   "execution_count": null,
   "metadata": {},
   "outputs": [],
   "source": []
  }
 ],
 "metadata": {
  "kernelspec": {
   "display_name": "base",
   "language": "python",
   "name": "python3"
  },
  "language_info": {
   "codemirror_mode": {
    "name": "ipython",
    "version": 3
   },
   "file_extension": ".py",
   "mimetype": "text/x-python",
   "name": "python",
   "nbconvert_exporter": "python",
   "pygments_lexer": "ipython3",
   "version": "3.9.13"
  },
  "orig_nbformat": 4
 },
 "nbformat": 4,
 "nbformat_minor": 2
}
