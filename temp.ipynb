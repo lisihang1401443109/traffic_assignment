{
 "cells": [
  {
   "cell_type": "code",
   "execution_count": 1,
   "metadata": {},
   "outputs": [],
   "source": [
    "import runner"
   ]
  },
  {
   "cell_type": "code",
   "execution_count": 2,
   "metadata": {},
   "outputs": [
    {
     "name": "stdout",
     "output_type": "stream",
     "text": [
      "416 nodes, 914 links, \n",
      "1406 OD pairs\n"
     ]
    }
   ],
   "source": [
    "anaheim = runner.Experiment('./inputs/Anaheim/', './temp/', threshold=0.001)"
   ]
  },
  {
   "cell_type": "code",
   "execution_count": 4,
   "metadata": {},
   "outputs": [
    {
     "name": "stdout",
     "output_type": "stream",
     "text": [
      "Experiment(self.input_path='./inputs/Anaheim/', self.output_path='./temp/', self.algorithm='dijkstra', self.iteration='constant', self.alpha=0.15, self.threashold=0.001, self.maxIter=20)\n",
      "iter: 1, newtime: 1339602.4122650092, oldtime: 1342878.8850481694\n",
      "iter: 2, newtime: 1328276.0320653012, oldtime: 1339602.4122650092\n",
      "iter: 3, newtime: 1324144.8560495873, oldtime: 1328276.0320653012\n",
      "iter: 4, newtime: 1322527.6864383982, oldtime: 1324144.8560495873\n",
      "iter: 5, newtime: 1322545.0731944807, oldtime: 1322527.6864383982\n",
      "iter: 6, newtime: 1322451.4819735407, oldtime: 1322545.0731944807\n",
      "iter: 7, newtime: 1321971.5716491349, oldtime: 1322451.4819735407\n",
      "iter: 8, newtime: 1323031.1670101208, oldtime: 1321971.5716491349\n",
      "iter: 9, newtime: 1324560.0045082415, oldtime: 1323031.1670101208\n",
      "iter: 10, newtime: 1322472.9471257015, oldtime: 1324560.0045082415\n",
      "iter: 11, newtime: 1321681.282512687, oldtime: 1322472.9471257015\n",
      "iter: 12, newtime: 1323761.3772757703, oldtime: 1321681.282512687\n",
      "iter: 13, newtime: 1321945.7850623054, oldtime: 1323761.3772757703\n",
      "iter: 14, newtime: 1321803.8033748926, oldtime: 1321945.7850623054\n",
      "iter: 15, newtime: 1323875.8245161085, oldtime: 1321803.8033748926\n",
      "iter: 16, newtime: 1321532.0625104536, oldtime: 1323875.8245161085\n",
      "iter: 17, newtime: 1321215.9307397597, oldtime: 1321532.0625104536\n",
      "iter: 18, newtime: 1322916.1925430624, oldtime: 1321215.9307397597\n",
      "iter: 19, newtime: 1321659.6031523244, oldtime: 1322916.1925430624\n",
      "max iter reached\n"
     ]
    }
   ],
   "source": [
    "anaheim.run()"
   ]
  },
  {
   "cell_type": "code",
   "execution_count": 1,
   "metadata": {},
   "outputs": [],
   "source": [
    "a = dict()"
   ]
  },
  {
   "cell_type": "code",
   "execution_count": null,
   "metadata": {},
   "outputs": [],
   "source": []
  },
  {
   "cell_type": "code",
   "execution_count": null,
   "metadata": {},
   "outputs": [],
   "source": []
  }
 ],
 "metadata": {
  "kernelspec": {
   "display_name": "base",
   "language": "python",
   "name": "python3"
  },
  "language_info": {
   "codemirror_mode": {
    "name": "ipython",
    "version": 3
   },
   "file_extension": ".py",
   "mimetype": "text/x-python",
   "name": "python",
   "nbconvert_exporter": "python",
   "pygments_lexer": "ipython3",
   "version": "3.9.13"
  },
  "orig_nbformat": 4
 },
 "nbformat": 4,
 "nbformat_minor": 2
}
