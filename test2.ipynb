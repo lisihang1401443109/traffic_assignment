{
 "cells": [
  {
   "cell_type": "code",
   "execution_count": 1,
   "metadata": {},
   "outputs": [],
   "source": [
    "import runner"
   ]
  },
  {
   "cell_type": "code",
   "execution_count": 2,
   "metadata": {},
   "outputs": [],
   "source": [
    "# runner.compare_xfc_result_vary_centralities(out_alias='xfc_centralities_1.json', evaluation='total_cost', centralities=['demand_in_out', 'demand_in_out_adj'])"
   ]
  },
  {
   "cell_type": "code",
   "execution_count": 3,
   "metadata": {},
   "outputs": [
    {
     "name": "stdout",
     "output_type": "stream",
     "text": [
      "EMA\n",
      "74 nodes, 258 links, \n",
      "5476 OD pairs\n",
      "74 258\n",
      "Braess\n",
      "4 nodes, 5 links, \n",
      "1 OD pairs\n",
      "4 5\n",
      "Barcelona\n",
      "930 nodes, 2522 links, \n",
      "7922 OD pairs\n",
      "930 2522\n",
      "Winnipeg\n",
      "1040 nodes, 2836 links, \n",
      "4345 OD pairs\n",
      "1040 2836\n",
      "Anaheim\n",
      "416 nodes, 914 links, \n",
      "1406 OD pairs\n",
      "416 914\n",
      "ChicagoSketch\n",
      "933 nodes, 2950 links, \n",
      "142890 OD pairs\n",
      "933 2950\n",
      "SiouxFalls\n",
      "24 nodes, 76 links, \n",
      "576 OD pairs\n",
      "24 76\n"
     ]
    },
    {
     "data": {
      "image/png": "[encoded data removed]",
      "text/plain": [
       "<Figure size 640x480 with 1 Axes>"
      ]
     },
     "metadata": {},
     "output_type": "display_data"
    }
   ],
   "source": [
    "runner.get_xfcs_from_centralities(centralities=['demand_in_out_adj'])"
   ]
  },
  {
   "cell_type": "code",
   "execution_count": null,
   "metadata": {},
   "outputs": [],
   "source": []
  }
 ],
 "metadata": {
  "kernelspec": {
   "display_name": "traffic",
   "language": "python",
   "name": "python3"
  },
  "language_info": {
   "codemirror_mode": {
    "name": "ipython",
    "version": 3
   },
   "file_extension": ".py",
   "mimetype": "text/x-python",
   "name": "python",
   "nbconvert_exporter": "python",
   "pygments_lexer": "ipython3",
   "version": "3.11.4"
  },
  "orig_nbformat": 4
 },
 "nbformat": 4,
 "nbformat_minor": 2
}
