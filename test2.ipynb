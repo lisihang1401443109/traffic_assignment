{
 "cells": [
  {
   "cell_type": "code",
   "execution_count": 1,
   "metadata": {},
   "outputs": [],
   "source": [
    "import runner"
   ]
  },
  {
   "cell_type": "code",
   "execution_count": 2,
   "metadata": {},
   "outputs": [
    {
     "name": "stdout",
     "output_type": "stream",
     "text": [
      "74 nodes, 258 links, \n",
      "5476 OD pairs\n",
      "74 258\n",
      "selected 7 nodes as xfc using method='adjusted_betweenness'\n",
      "Experiment(self.input_path='/home/sihang/workspace/traffic_proj/inputs/EMA/'\n",
      "self.output_path='/home/sihang/workspace/traffic_proj/outputs/EMA/'\n",
      "self.algorithm='dijkstra'\n",
      "self.method='automatic'\n",
      "self.alpha=0.15\n",
      "self.threashold=0.001\n",
      "self.maxIter=100\n",
      "self.xfc=True\n",
      ")\n",
      "4 nodes, 7 links, \n",
      "1 OD pairs\n",
      "4 7\n",
      "selected 1 nodes as xfc using method='adjusted_betweenness'\n",
      "Experiment(self.input_path='/home/sihang/workspace/traffic_proj/inputs/test/'\n",
      "self.output_path='/home/sihang/workspace/traffic_proj/outputs/test/'\n",
      "self.algorithm='dijkstra'\n",
      "self.method='automatic'\n",
      "self.alpha=0.15\n",
      "self.threashold=0.001\n",
      "self.maxIter=100\n",
      "self.xfc=True\n",
      ")\n"
     ]
    },
    {
     "ename": "FileNotFoundError",
     "evalue": "[Errno 2] No such file or directory: '/home/sihang/workspace/traffic_proj/outputs/test/xfc_centralities.json'",
     "output_type": "error",
     "traceback": [
      "\u001b[0;31m---------------------------------------------------------------------------\u001b[0m",
      "\u001b[0;31mFileNotFoundError\u001b[0m                         Traceback (most recent call last)",
      "\u001b[1;32m/home/sihang/workspace/traffic_proj/test2.ipynb Cell 2\u001b[0m line \u001b[0;36m1\n\u001b[0;32m----> <a href='vscode-notebook-cell://wsl%2Bubuntu/home/sihang/workspace/traffic_proj/test2.ipynb#W1sdnNjb2RlLXJlbW90ZQ%3D%3D?line=0'>1</a>\u001b[0m runner\u001b[39m.\u001b[39;49mcompare_xfc_result_vary_centralities(centralities\u001b[39m=\u001b[39;49m[\u001b[39m'\u001b[39;49m\u001b[39madjusted_betweenness\u001b[39;49m\u001b[39m'\u001b[39;49m])\n",
      "File \u001b[0;32m~/workspace/traffic_proj/runner.py:194\u001b[0m, in \u001b[0;36mcompare_xfc_result_vary_centralities\u001b[0;34m(root_folder, xfc_ratio, proning, out_alias, centralities)\u001b[0m\n\u001b[1;32m    191\u001b[0m     experiment\u001b[39m.\u001b[39mp\u001b[39m.\u001b[39mdetermine_xfc(xfc_ratio, method\u001b[39m=\u001b[39mcentrality)\n\u001b[1;32m    192\u001b[0m     results[centrality] \u001b[39m=\u001b[39m experiment\u001b[39m.\u001b[39mrun()[\u001b[39m'\u001b[39m\u001b[39mtotal_cost\u001b[39m\u001b[39m'\u001b[39m]\n\u001b[0;32m--> 194\u001b[0m original_dict \u001b[39m=\u001b[39m json\u001b[39m.\u001b[39mload(\u001b[39mopen\u001b[39;49m(out_path \u001b[39m+\u001b[39;49m \u001b[39m'\u001b[39;49m\u001b[39mxfc_centralities.json\u001b[39;49m\u001b[39m'\u001b[39;49m))\n\u001b[1;32m    195\u001b[0m \u001b[39mfor\u001b[39;00m key, value \u001b[39min\u001b[39;00m results\u001b[39m.\u001b[39mitems():\n\u001b[1;32m    196\u001b[0m     original_dict[key] \u001b[39m=\u001b[39m value\n",
      "\u001b[0;31mFileNotFoundError\u001b[0m: [Errno 2] No such file or directory: '/home/sihang/workspace/traffic_proj/outputs/test/xfc_centralities.json'"
     ]
    }
   ],
   "source": [
    "runner.compare_xfc_result_vary_centralities(centralities=['adjusted_betweenness'])"
   ]
  },
  {
   "cell_type": "code",
   "execution_count": null,
   "metadata": {},
   "outputs": [],
   "source": []
  }
 ],
 "metadata": {
  "kernelspec": {
   "display_name": "traffic",
   "language": "python",
   "name": "python3"
  },
  "language_info": {
   "codemirror_mode": {
    "name": "ipython",
    "version": 3
   },
   "file_extension": ".py",
   "mimetype": "text/x-python",
   "name": "python",
   "nbconvert_exporter": "python",
   "pygments_lexer": "ipython3",
   "version": "3.11.4"
  },
  "orig_nbformat": 4
 },
 "nbformat": 4,
 "nbformat_minor": 2
}
