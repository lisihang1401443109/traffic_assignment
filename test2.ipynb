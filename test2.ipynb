{
 "cells": [
  {
   "cell_type": "code",
   "execution_count": 1,
   "metadata": {},
   "outputs": [],
   "source": [
    "import runner"
   ]
  },
  {
   "cell_type": "code",
   "execution_count": 2,
   "metadata": {},
   "outputs": [
    {
     "name": "stdout",
     "output_type": "stream",
     "text": [
      "74 nodes, 258 links, \n",
      "5476 OD pairs\n",
      "selected 7 nodes as xfc using method='degree'\n",
      "74 nodes, 258 links, \n",
      "5476 OD pairs\n",
      "selected 7 nodes as xfc using method='betweenness'\n",
      "74 nodes, 258 links, \n"
     ]
    },
    {
     "name": "stdout",
     "output_type": "stream",
     "text": [
      "5476 OD pairs\n",
      "selected 7 nodes as xfc using method='eigenvector'\n"
     ]
    }
   ],
   "source": [
    "runner.get_xfcs_from_centralities()"
   ]
  },
  {
   "cell_type": "code",
   "execution_count": null,
   "metadata": {},
   "outputs": [],
   "source": []
  }
 ],
 "metadata": {
  "kernelspec": {
   "display_name": "traffic",
   "language": "python",
   "name": "python3"
  },
  "language_info": {
   "codemirror_mode": {
    "name": "ipython",
    "version": 3
   },
   "file_extension": ".py",
   "mimetype": "text/x-python",
   "name": "python",
   "nbconvert_exporter": "python",
   "pygments_lexer": "ipython3",
   "version": "3.11.4"
  },
  "orig_nbformat": 4
 },
 "nbformat": 4,
 "nbformat_minor": 2
}
