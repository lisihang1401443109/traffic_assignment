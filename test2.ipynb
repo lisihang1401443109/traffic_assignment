{
 "cells": [
  {
   "cell_type": "code",
   "execution_count": 1,
   "metadata": {},
   "outputs": [],
   "source": [
    "import runner"
   ]
  },
  {
   "cell_type": "code",
   "execution_count": 2,
   "metadata": {},
   "outputs": [
    {
     "name": "stdout",
     "output_type": "stream",
     "text": [
      "74 nodes, 258 links, \n",
      "5476 OD pairs\n",
      "Experiment(self.input_path='/home/sihang/workspace/traffic_proj/inputs/EMA/'\n",
      "self.output_path='/home/sihang/workspace/traffic_proj/outputs/EMA/'\n",
      "self.algorithm='dijkstra'\n",
      "self.method='automatic'\n",
      "self.alpha=0.15\n",
      "self.threashold=0.001\n",
      "self.maxIter=100\n",
      "self.xfc=True\n",
      ")\n",
      "74 nodes, 258 links, \n",
      "5476 OD pairs\n",
      "Experiment(self.input_path='/home/sihang/workspace/traffic_proj/inputs/EMA/'\n",
      "self.output_path='/home/sihang/workspace/traffic_proj/outputs/EMA/'\n",
      "self.algorithm='dijkstra'\n",
      "self.method='automatic'\n",
      "self.alpha=0.15\n",
      "self.threashold=0.001\n",
      "self.maxIter=100\n",
      "self.xfc=True\n",
      ")\n",
      "4 nodes, 5 links, \n",
      "1 OD pairs\n",
      "Experiment(self.input_path='/home/sihang/workspace/traffic_proj/inputs/Braess/'\n",
      "self.output_path='/home/sihang/workspace/traffic_proj/outputs/Braess/'\n",
      "self.algorithm='dijkstra'\n",
      "self.method='automatic'\n",
      "self.alpha=0.15\n",
      "self.threashold=0.001\n",
      "self.maxIter=100\n",
      "self.xfc=True\n",
      ")\n",
      "4 nodes, 5 links, \n",
      "1 OD pairs\n",
      "Experiment(self.input_path='/home/sihang/workspace/traffic_proj/inputs/Braess/'\n",
      "self.output_path='/home/sihang/workspace/traffic_proj/outputs/Braess/'\n",
      "self.algorithm='dijkstra'\n",
      "self.method='automatic'\n",
      "self.alpha=0.15\n",
      "self.threashold=0.001\n",
      "self.maxIter=100\n",
      "self.xfc=True\n",
      ")\n",
      "930 nodes, 2522 links, \n",
      "7922 OD pairs\n",
      "Experiment(self.input_path='/home/sihang/workspace/traffic_proj/inputs/Barcelona/'\n",
      "self.output_path='/home/sihang/workspace/traffic_proj/outputs/Barcelona/'\n",
      "self.algorithm='dijkstra'\n",
      "self.method='automatic'\n",
      "self.alpha=0.15\n",
      "self.threashold=0.001\n",
      "self.maxIter=100\n",
      "self.xfc=True\n",
      ")\n"
     ]
    }
   ],
   "source": [
    "runner.compare_xfc_result_vary_centralities(out_alias='xfc_centralities_1.json', evaluation='total_cost')"
   ]
  },
  {
   "cell_type": "code",
   "execution_count": null,
   "metadata": {},
   "outputs": [],
   "source": []
  }
 ],
 "metadata": {
  "kernelspec": {
   "display_name": "traffic",
   "language": "python",
   "name": "python3"
  },
  "language_info": {
   "codemirror_mode": {
    "name": "ipython",
    "version": 3
   },
   "file_extension": ".py",
   "mimetype": "text/x-python",
   "name": "python",
   "nbconvert_exporter": "python",
   "pygments_lexer": "ipython3",
   "version": "3.11.4"
  },
  "orig_nbformat": 4
 },
 "nbformat": 4,
 "nbformat_minor": 2
}
