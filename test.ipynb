{
 "cells": [
  {
   "cell_type": "code",
   "execution_count": 1,
   "metadata": {},
   "outputs": [
    {
     "name": "stdout",
     "output_type": "stream",
     "text": [
      "updated time matrix:\n",
      " [[inf  2.  5.]\n",
      " [inf inf  2.]\n",
      " [inf inf inf]]\n"
     ]
    },
    {
     "data": {
      "text/plain": [
       "(array([[inf,  2.,  5.],\n",
       "        [inf, inf,  2.],\n",
       "        [inf, inf, inf]]),\n",
       " array([[inf,  2.,  5.],\n",
       "        [inf, inf,  2.],\n",
       "        [inf, inf, inf]]))"
      ]
     },
     "execution_count": 1,
     "metadata": {},
     "output_type": "execute_result"
    }
   ],
   "source": [
    "from model import *\n",
    "g = Graph([1, 2, 3], [Link(1, 2, 2, 0), Link(2, 3, 2, 0), Link(1, 3, 5, 0)])\n",
    "g.time_matrix, g.fft_matrix"
   ]
  },
  {
   "cell_type": "code",
   "execution_count": 2,
   "metadata": {},
   "outputs": [
    {
     "data": {
      "text/plain": [
       "(array([None, 0, 1], dtype=object), array([0., 2., 4.]))"
      ]
     },
     "execution_count": 2,
     "metadata": {},
     "output_type": "execute_result"
    }
   ],
   "source": [
    "g.dijkstra(1)\n"
   ]
  },
  {
   "cell_type": "code",
   "execution_count": 3,
   "metadata": {},
   "outputs": [],
   "source": [
    "demands = Demands([1, 2, 3])"
   ]
  },
  {
   "cell_type": "code",
   "execution_count": 4,
   "metadata": {},
   "outputs": [],
   "source": [
    "demands.add_od_pair(1, 2, 5)"
   ]
  },
  {
   "cell_type": "code",
   "execution_count": 5,
   "metadata": {},
   "outputs": [],
   "source": [
    "demands.add_od_pair(2, 3, 4)"
   ]
  },
  {
   "cell_type": "code",
   "execution_count": 6,
   "metadata": {},
   "outputs": [],
   "source": [
    "demands.add_od_pair(1, 3, 4)"
   ]
  },
  {
   "cell_type": "code",
   "execution_count": 7,
   "metadata": {},
   "outputs": [],
   "source": [
    "problem = Problem(g, demands)"
   ]
  },
  {
   "cell_type": "code",
   "execution_count": 8,
   "metadata": {},
   "outputs": [
    {
     "data": {
      "text/plain": [
       "array([[0., 9., 0.],\n",
       "       [0., 0., 8.],\n",
       "       [0., 0., 0.]])"
      ]
     },
     "execution_count": 8,
     "metadata": {},
     "output_type": "execute_result"
    }
   ],
   "source": [
    "problem.optimal()"
   ]
  },
  {
   "cell_type": "code",
   "execution_count": 9,
   "metadata": {},
   "outputs": [
    {
     "data": {
      "text/plain": [
       "array([[0., 5., 4.],\n",
       "       [0., 0., 4.],\n",
       "       [0., 0., 0.]])"
      ]
     },
     "execution_count": 9,
     "metadata": {},
     "output_type": "execute_result"
    }
   ],
   "source": [
    "problem.demands.matrix"
   ]
  },
  {
   "cell_type": "code",
   "execution_count": 10,
   "metadata": {},
   "outputs": [
    {
     "data": {
      "text/plain": [
       "array([[0., 0., 0.],\n",
       "       [0., 0., 0.],\n",
       "       [0., 0., 0.]])"
      ]
     },
     "execution_count": 10,
     "metadata": {},
     "output_type": "execute_result"
    }
   ],
   "source": [
    "problem.graph.flow_matrix"
   ]
  },
  {
   "cell_type": "code",
   "execution_count": 11,
   "metadata": {},
   "outputs": [
    {
     "name": "stdout",
     "output_type": "stream",
     "text": [
      "initializing============================================================\n",
      "updated time matrix:\n",
      " [[inf  2.  5.]\n",
      " [inf inf  2.]\n",
      " [inf inf inf]]\n",
      "updated time matrix:\n",
      " [[        inf 26.3         5.        ]\n",
      " [        inf         inf 17.17037037]\n",
      " [        inf         inf         inf]]\n",
      "iteration(i := i+1)=1================================================================\n",
      "updated time matrix:\n",
      " [[        inf 20.43968     5.0012    ]\n",
      " [        inf         inf 13.10613926]\n",
      " [        inf         inf         inf]]\n",
      "new_time=350.98074074074066, \n",
      "old_time=374.06296296296296 \n",
      "================================================\n",
      "updated time matrix:\n",
      " [[        inf 16.35305168  5.01405621]\n",
      " [        inf         inf 10.3466677 ]\n",
      " [        inf         inf         inf]]\n",
      "new_time=257.1217066962961, \n",
      "old_time=350.98074074074066 \n",
      "================================================\n",
      "updated time matrix:\n",
      " [[        inf 13.44923118  5.05255364]\n",
      " [        inf         inf  8.43613074]\n",
      " [        inf         inf         inf]]\n",
      "new_time=196.47898562150698, \n",
      "old_time=257.1217066962961 \n",
      "================================================\n",
      "updated time matrix:\n",
      " [[        inf 11.3483981   5.12373857]\n",
      " [        inf         inf  7.08793957]\n",
      " [        inf         inf         inf]]\n",
      "new_time=156.34821790088128, \n",
      "old_time=196.47898562150698 \n",
      "================================================\n",
      "updated time matrix:\n",
      " [[       inf 9.80238902 5.22700523]\n",
      " [       inf        inf 6.11898698]\n",
      " [       inf        inf        inf]]\n",
      "new_time=129.21618683503044, \n",
      "old_time=156.34821790088128 \n",
      "================================================\n",
      "updated time matrix:\n",
      " [[       inf 8.64639344 5.35673969]\n",
      " [       inf        inf 5.41036275]\n",
      " [       inf        inf        inf]]\n",
      "new_time=110.52942098550183, \n",
      "old_time=129.21618683503044 \n",
      "================================================\n",
      "updated time matrix:\n",
      " [[       inf 7.76916861 5.50509953]\n",
      " [       inf        inf 4.88357488]\n",
      " [       inf        inf        inf]]\n",
      "new_time=97.45648079316078, \n",
      "old_time=110.52942098550183 \n",
      "================================================\n",
      "updated time matrix:\n",
      " [[       inf 7.09441822 5.6640042 ]\n",
      " [       inf        inf 4.48596168]\n",
      " [       inf        inf        inf]]\n",
      "new_time=88.19120169162143, \n",
      "old_time=97.45648079316078 \n",
      "================================================\n",
      "updated time matrix:\n",
      " [[       inf 6.56898727 5.82628016]\n",
      " [       inf        inf 4.18161859]\n",
      " [       inf        inf        inf]]\n",
      "new_time=81.55328614319859, \n",
      "old_time=88.19120169162143 \n",
      "================================================\n",
      "updated time matrix:\n",
      " [[       inf 6.15527276 5.98616612]\n",
      " [       inf        inf 3.94567599]\n",
      " [       inf        inf        inf]]\n",
      "new_time=76.75442606190241, \n",
      "old_time=81.55328614319859 \n",
      "================================================\n",
      "updated time matrix:\n",
      " [[       inf 5.82627652 6.13941059]\n",
      " [       inf        inf 3.76063973]\n",
      " [       inf        inf        inf]]\n",
      "new_time=73.2580565100725, \n",
      "old_time=76.75442606190241 \n",
      "================================================\n",
      "updated time matrix:\n",
      " [[       inf 5.56233553 6.28314522]\n",
      " [       inf        inf 3.61401784]\n",
      " [       inf        inf        inf]]\n",
      "new_time=70.69310090606696, \n",
      "old_time=73.2580565100725 \n",
      "================================================\n",
      "updated time matrix:\n",
      " [[       inf 5.34893153 6.41565841]\n",
      " [       inf        inf 3.49676008]\n",
      " [       inf        inf        inf]]\n",
      "new_time=68.79954894476117, \n",
      "old_time=70.69310090606696 \n",
      "================================================\n",
      "updated time matrix:\n",
      " [[       inf 5.17520398 6.53614423]\n",
      " [       inf        inf 3.40221772]\n",
      " [       inf        inf        inf]]\n",
      "new_time=67.39326645298434, \n",
      "old_time=68.79954894476117 \n",
      "================================================\n",
      "updated time matrix:\n",
      " [[       inf 5.03292737 6.64446718]\n",
      " [       inf        inf 3.32544093]\n",
      " [       inf        inf        inf]]\n",
      "new_time=66.3427245448607, \n",
      "old_time=67.39326645298434 \n",
      "================================================\n",
      "updated time matrix:\n",
      " [[       inf 4.9157988  6.74096105]\n",
      " [       inf        inf 3.26269775]\n",
      " [       inf        inf        inf]]\n",
      "new_time=65.5533053576346, \n",
      "old_time=66.3427245448607 \n",
      "================================================\n",
      "updated time matrix:\n",
      " [[       inf 4.81893567 6.82626702]\n",
      " [       inf        inf 3.21114073]\n",
      " [       inf        inf        inf]]\n",
      "new_time=64.9565403324289, \n",
      "old_time=65.5533053576346 \n",
      "================================================\n",
      "updated time matrix:\n",
      " [[       inf 4.73851707 6.90120937]\n",
      " [       inf        inf 3.16857279]\n",
      " [       inf        inf        inf]]\n",
      "new_time=64.50262953127508, \n",
      "old_time=64.9565403324289 \n",
      "================================================\n",
      "updated time matrix:\n",
      " [[       inf 4.67152485 6.96670371]\n",
      " [       inf        inf 3.13328094]\n",
      " [       inf        inf        inf]]\n",
      "new_time=64.15518437152897, \n",
      "old_time=64.50262953127508 \n",
      "================================================\n",
      "updated time matrix:\n",
      " [[       inf 4.61555443 7.02369191]\n",
      " [       inf        inf 3.10391666]\n",
      " [       inf        inf        inf]]\n",
      "new_time=63.887500615194895, \n",
      "old_time=64.15518437152897 \n",
      "================================================\n",
      "updated time matrix:\n",
      " [[       inf 4.56867506 7.07309798]\n",
      " [       inf        inf 3.07940892]\n",
      " [       inf        inf        inf]]\n",
      "new_time=63.679897886858285, \n",
      "old_time=63.887500615194895 \n",
      "================================================\n",
      "updated time matrix:\n",
      " [[       inf 4.52932554 7.11579968]\n",
      " [       inf        inf 3.05890016]\n",
      " [       inf        inf        inf]]\n",
      "new_time=63.517810007131416, \n",
      "old_time=63.679897886858285 \n",
      "================================================\n",
      "updated time matrix:\n",
      " [[       inf 4.49623541 7.15261189]\n",
      " [       inf        inf 3.04169871]\n",
      " [       inf        inf        inf]]\n",
      "new_time=63.39040807209011, \n",
      "old_time=63.517810007131416 \n",
      "================================================\n",
      "updated time matrix:\n",
      " [[       inf 4.468365   7.18427815]\n",
      " [       inf        inf 3.02724299]\n",
      " [       inf        inf        inf]]\n",
      "new_time=63.28960389509708, \n",
      "old_time=63.39040807209011 \n",
      "================================================\n",
      "updated time matrix:\n",
      " [[       inf 4.44485921 7.21146807]\n",
      " [       inf        inf 3.01507438]\n",
      " [       inf        inf        inf]]\n",
      "new_time=63.209326347853505, \n",
      "old_time=63.28960389509708 \n",
      "================================================\n",
      "updated time matrix:\n",
      " [[       inf 4.42501164 7.2347784 ]\n",
      " [       inf        inf 3.00481634]\n",
      " [       inf        inf        inf]]\n",
      "new_time=63.144994272217346, \n",
      "old_time=63.209326347853505 \n",
      "================================================\n",
      "updated time matrix:\n",
      " [[       inf 4.40823643 7.25473665]\n",
      " [       inf        inf 2.99615831]\n",
      " [       inf        inf        inf]]\n",
      "new_time=63.09313144593987, \n",
      "old_time=63.144994272217346 \n",
      "================================================\n",
      "updated time matrix:\n",
      " [[       inf 4.39404606 7.27180602]\n",
      " [       inf        inf 2.98884307]\n",
      " [       inf        inf        inf]]\n",
      "new_time=63.05108449415346, \n",
      "old_time=63.09313144593987 \n",
      "================================================\n"
     ]
    }
   ],
   "source": [
    "problem.run()"
   ]
  },
  {
   "cell_type": "code",
   "execution_count": 12,
   "metadata": {},
   "outputs": [
    {
     "data": {
      "text/plain": [
       "array([[0., 5., 4.],\n",
       "       [0., 0., 4.],\n",
       "       [0., 0., 0.]])"
      ]
     },
     "execution_count": 12,
     "metadata": {},
     "output_type": "execute_result"
    }
   ],
   "source": [
    "problem.demands.matrix"
   ]
  },
  {
   "cell_type": "code",
   "execution_count": null,
   "metadata": {},
   "outputs": [],
   "source": []
  }
 ],
 "metadata": {
  "kernelspec": {
   "display_name": "Python 3",
   "language": "python",
   "name": "python3"
  },
  "language_info": {
   "codemirror_mode": {
    "name": "ipython",
    "version": 3
   },
   "file_extension": ".py",
   "mimetype": "text/x-python",
   "name": "python",
   "nbconvert_exporter": "python",
   "pygments_lexer": "ipython3",
   "version": "3.9.13"
  },
  "orig_nbformat": 4
 },
 "nbformat": 4,
 "nbformat_minor": 2
}
