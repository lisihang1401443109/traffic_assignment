{
 "cells": [
  {
   "cell_type": "code",
   "execution_count": 30,
   "metadata": {},
   "outputs": [],
   "source": [
    "import os\n",
    "import runner\n",
    "import pandas as pd\n",
    "from numpy import ndarray, zeros, square, sum, mean"
   ]
  },
  {
   "cell_type": "code",
   "execution_count": 31,
   "metadata": {},
   "outputs": [
    {
     "name": "stdout",
     "output_type": "stream",
     "text": [
      "74 nodes, 258 links, \n",
      "5476 OD pairs\n",
      "Experiment(self.input_path='/home/sihang/workspace/traffic_proj/inputs/EMA/', self.output_path='/home/sihang/workspace/traffic_proj/outputs/EMA/', self.algorithm='dijkstra', self.iteration='constant', self.alpha=0.15, self.threashold=500, self.maxIter=40)\n",
      "4 nodes, 5 links, \n",
      "1 OD pairs\n",
      "Experiment(self.input_path='/home/sihang/workspace/traffic_proj/inputs/Braess/', self.output_path='/home/sihang/workspace/traffic_proj/outputs/Braess/', self.algorithm='dijkstra', self.iteration='constant', self.alpha=0.15, self.threashold=500, self.maxIter=40)\n",
      "930 nodes, 2522 links, \n",
      "7922 OD pairs\n",
      "Experiment(self.input_path='/home/sihang/workspace/traffic_proj/inputs/Barcelona/', self.output_path='/home/sihang/workspace/traffic_proj/outputs/Barcelona/', self.algorithm='dijkstra', self.iteration='constant', self.alpha=0.15, self.threashold=500, self.maxIter=40)\n",
      "1040 nodes, 2836 links, \n",
      "4345 OD pairs\n",
      "Experiment(self.input_path='/home/sihang/workspace/traffic_proj/inputs/Winnipeg/', self.output_path='/home/sihang/workspace/traffic_proj/outputs/Winnipeg/', self.algorithm='dijkstra', self.iteration='constant', self.alpha=0.15, self.threashold=500, self.maxIter=40)\n",
      "416 nodes, 914 links, \n",
      "1406 OD pairs\n",
      "Experiment(self.input_path='/home/sihang/workspace/traffic_proj/inputs/Anaheim/', self.output_path='/home/sihang/workspace/traffic_proj/outputs/Anaheim/', self.algorithm='dijkstra', self.iteration='constant', self.alpha=0.15, self.threashold=500, self.maxIter=40)\n",
      "933 nodes, 2950 links, \n",
      "142890 OD pairs\n",
      "Experiment(self.input_path='/home/sihang/workspace/traffic_proj/inputs/ChicagoSketch/', self.output_path='/home/sihang/workspace/traffic_proj/outputs/ChicagoSketch/', self.algorithm='dijkstra', self.iteration='constant', self.alpha=0.15, self.threashold=500, self.maxIter=40)\n",
      "24 nodes, 76 links, \n",
      "576 OD pairs\n",
      "Experiment(self.input_path='/home/sihang/workspace/traffic_proj/inputs/SiouxFalls/', self.output_path='/home/sihang/workspace/traffic_proj/outputs/SiouxFalls/', self.algorithm='dijkstra', self.iteration='constant', self.alpha=0.15, self.threashold=500, self.maxIter=40)\n"
     ]
    }
   ],
   "source": [
    "runner.run_all_networks()"
   ]
  },
  {
   "cell_type": "code",
   "execution_count": 32,
   "metadata": {},
   "outputs": [],
   "source": [
    "'''\n",
    "    this function loads one of the tntp/csv file into pandas dataframe, with the information about init_node, term_node, and flow.\n",
    "    This function should also turn the pandas dataframe into a ndarray.\n",
    "'''\n",
    "def load_matrix_from_flow(input_path) -> ndarray:\n",
    "    if 'tntp' in input_path:\n",
    "        # process tntp format file\n",
    "        df = pd.read_csv(input_path, skiprows=3, sep='\\t')\n",
    "    else:\n",
    "        df = pd.read_csv(input_path)\n",
    "    # df has 3 columns: init_node, term_node, flow\n",
    "    # I would like to turn it into a ndarray where arr[init_node][term_node] = flow\n",
    "    max_node = max(df['init_node'].max(), df['term_node'].max())\n",
    "    arr = zeros((max_node+1, max_node+1))\n",
    "    for ind in df.index:\n",
    "        arr[int(df.iloc[ind]['init_node']), int(df.iloc[ind]['term_node'])] = df.iloc[ind]['flow']\n",
    "\n",
    "    return arr\n",
    "    \n",
    "    \n"
   ]
  },
  {
   "cell_type": "code",
   "execution_count": 33,
   "metadata": {},
   "outputs": [
    {
     "data": {
      "text/plain": [
       "['EMA',\n",
       " 'Braess',\n",
       " 'Barcelona',\n",
       " 'Winnipeg',\n",
       " 'Anaheim',\n",
       " 'ChicagoSketch',\n",
       " 'SiouxFalls']"
      ]
     },
     "execution_count": 33,
     "metadata": {},
     "output_type": "execute_result"
    }
   ],
   "source": [
    "list_folders = os.listdir('/home/sihang/workspace/traffic_proj/control')\n",
    "list_folders"
   ]
  },
  {
   "cell_type": "code",
   "execution_count": 34,
   "metadata": {},
   "outputs": [
    {
     "name": "stdout",
     "output_type": "stream",
     "text": [
      "EMA\n",
      "12541.96912548873\n",
      "Braess\n",
      "0.791739582262438\n",
      "Barcelona\n",
      "5633.911996217607\n",
      "Winnipeg\n",
      "1091.4392713510103\n",
      "Anaheim\n",
      "2198.3235621946037\n",
      "ChicagoSketch\n",
      "3138.904081218034\n",
      "SiouxFalls\n",
      "1761214.3600426323\n"
     ]
    }
   ],
   "source": [
    "for folder in list_folders:\n",
    "    print(folder)\n",
    "    mat1 = load_matrix_from_flow('/home/sihang/workspace/traffic_proj/control/' + folder + '/' + folder + '_flow.tntp')\n",
    "    mat2 = load_matrix_from_flow('/home/sihang/workspace/traffic_proj/outputs/' + folder + '/' + 'dijkstra_constant.csv')\n",
    "    mse = mean(square(mat1 - mat2))\n",
    "    print(mse)"
   ]
  },
  {
   "cell_type": "code",
   "execution_count": null,
   "metadata": {},
   "outputs": [],
   "source": [
    "EMA = runner.Experiment('./inputs/EMA/', './outputs/EMA/', maxIter=1000)"
   ]
  }
 ],
 "metadata": {
  "kernelspec": {
   "display_name": "Python 3",
   "language": "python",
   "name": "python3"
  },
  "language_info": {
   "codemirror_mode": {
    "name": "ipython",
    "version": 3
   },
   "file_extension": ".py",
   "mimetype": "text/x-python",
   "name": "python",
   "nbconvert_exporter": "python",
   "pygments_lexer": "ipython3",
   "version": "3.9.13"
  },
  "orig_nbformat": 4
 },
 "nbformat": 4,
 "nbformat_minor": 2
}
