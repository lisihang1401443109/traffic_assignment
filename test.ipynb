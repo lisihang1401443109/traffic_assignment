{
 "cells": [
  {
   "cell_type": "code",
   "execution_count": 7,
   "metadata": {},
   "outputs": [
    {
     "name": "stdout",
     "output_type": "stream",
     "text": [
      "0\n",
      "3\n",
      "[1, 2, 3]\n",
      "updated time matrix:\n",
      " [[inf  2.  5.]\n",
      " [inf inf  2.]\n",
      " [inf inf inf]]\n"
     ]
    },
    {
     "data": {
      "text/plain": [
       "(array([[inf,  2.,  5.],\n",
       "        [inf, inf,  2.],\n",
       "        [inf, inf, inf]]),\n",
       " array([[inf,  2.,  5.],\n",
       "        [inf, inf,  2.],\n",
       "        [inf, inf, inf]]))"
      ]
     },
     "execution_count": 7,
     "metadata": {},
     "output_type": "execute_result"
    }
   ],
   "source": [
    "from model import *\n",
    "g = Graph([1, 2, 3], [Link(1, 2, 2, 0), Link(2, 3, 2, 0), Link(1, 3, 5, 0)])\n",
    "g.time_matrix, g.fft_matrix"
   ]
  },
  {
   "cell_type": "code",
   "execution_count": 6,
   "metadata": {},
   "outputs": [
    {
     "data": {
      "text/plain": [
       "True"
      ]
     },
     "execution_count": 6,
     "metadata": {},
     "output_type": "execute_result"
    }
   ],
   "source": [
    "n = Node(1, True)\n",
    "n.is_XFC()\n"
   ]
  },
  {
   "cell_type": "code",
   "execution_count": 2,
   "metadata": {},
   "outputs": [
    {
     "data": {
      "text/plain": [
       "(array([None, 0, 1], dtype=object), array([0., 2., 4.]))"
      ]
     },
     "execution_count": 2,
     "metadata": {},
     "output_type": "execute_result"
    }
   ],
   "source": [
    "g.dijkstra(1)"
   ]
  },
  {
   "cell_type": "code",
   "execution_count": 18,
   "metadata": {},
   "outputs": [],
   "source": [
    "demands = Demands([1, 2, 3])"
   ]
  },
  {
   "cell_type": "code",
   "execution_count": 19,
   "metadata": {},
   "outputs": [],
   "source": [
    "demands.add_od_pair(1, 2, 5)"
   ]
  },
  {
   "cell_type": "code",
   "execution_count": 20,
   "metadata": {},
   "outputs": [],
   "source": [
    "demands.add_od_pair(2, 3, 4)"
   ]
  },
  {
   "cell_type": "code",
   "execution_count": 21,
   "metadata": {},
   "outputs": [],
   "source": [
    "demands.add_od_pair(1, 3, 4)"
   ]
  },
  {
   "cell_type": "code",
   "execution_count": 24,
   "metadata": {},
   "outputs": [
    {
     "data": {
      "text/plain": [
       "array([[0., 5., 4.],\n",
       "       [0., 0., 4.],\n",
       "       [0., 0., 0.]])"
      ]
     },
     "execution_count": 24,
     "metadata": {},
     "output_type": "execute_result"
    }
   ],
   "source": [
    "demands.matrix"
   ]
  },
  {
   "cell_type": "code",
   "execution_count": 25,
   "metadata": {},
   "outputs": [],
   "source": [
    "problem = Problem(g, demands)"
   ]
  },
  {
   "cell_type": "code",
   "execution_count": 26,
   "metadata": {},
   "outputs": [
    {
     "data": {
      "text/plain": [
       "array([[0., 5., 4.],\n",
       "       [0., 0., 4.],\n",
       "       [0., 0., 0.]])"
      ]
     },
     "execution_count": 26,
     "metadata": {},
     "output_type": "execute_result"
    }
   ],
   "source": [
    "problem.optimal()"
   ]
  },
  {
   "cell_type": "code",
   "execution_count": 27,
   "metadata": {},
   "outputs": [
    {
     "data": {
      "text/plain": [
       "array([[0., 5., 4.],\n",
       "       [0., 0., 4.],\n",
       "       [0., 0., 0.]])"
      ]
     },
     "execution_count": 27,
     "metadata": {},
     "output_type": "execute_result"
    }
   ],
   "source": [
    "problem.demands.matrix"
   ]
  },
  {
   "cell_type": "code",
   "execution_count": 28,
   "metadata": {},
   "outputs": [
    {
     "data": {
      "text/plain": [
       "array([[0.        , 5.04224642, 3.95775358],\n",
       "       [0.        , 0.        , 4.04224642],\n",
       "       [0.        , 0.        , 0.        ]])"
      ]
     },
     "execution_count": 28,
     "metadata": {},
     "output_type": "execute_result"
    }
   ],
   "source": [
    "problem.graph.flow_matrix"
   ]
  },
  {
   "cell_type": "code",
   "execution_count": 30,
   "metadata": {},
   "outputs": [
    {
     "name": "stdout",
     "output_type": "stream",
     "text": [
      "initializing============================================================\n",
      "updated time matrix:\n",
      " [[       inf 4.39842523 7.26651999]\n",
      " [       inf        inf 2.99109971]\n",
      " [       inf        inf        inf]]\n",
      "updated time matrix:\n",
      " [[       inf 4.31481481 7.37037037]\n",
      " [       inf        inf 2.94814815]\n",
      " [       inf        inf        inf]]\n",
      "iteration(i := i+1)=1================================================================\n",
      "updated time matrix:\n",
      " [[       inf 5.64240593 6.23734815]\n",
      " [       inf        inf 3.65831704]\n",
      " [       inf        inf        inf]]\n",
      "new_time=62.783703703703694, \n",
      "old_time=62.84814814814815 \n",
      "================================================\n",
      "updated time matrix:\n",
      " [[       inf 5.41383582 6.37365589]\n",
      " [       inf        inf 3.53229507]\n",
      " [       inf        inf        inf]]\n",
      "new_time=69.35701152592591, \n",
      "old_time=62.783703703703694 \n",
      "================================================\n",
      "updated time matrix:\n",
      " [[       inf 5.22815903 6.49811502]\n",
      " [       inf        inf 3.43094548]\n",
      " [       inf        inf        inf]]\n",
      "new_time=67.808150846529, \n",
      "old_time=69.35701152592591 \n",
      "================================================\n",
      "updated time matrix:\n",
      " [[       inf 5.07637998 6.61039494]\n",
      " [       inf        inf 3.34882515]\n",
      " [       inf        inf        inf]]\n",
      "new_time=66.653307748428, \n",
      "old_time=67.808150846529 \n",
      "================================================\n",
      "updated time matrix:\n",
      " [[       inf 4.95163137 6.71069581]\n",
      " [       inf        inf 3.28184683]\n",
      " [       inf        inf        inf]]\n",
      "new_time=65.78718559198128, \n",
      "old_time=66.653307748428 \n",
      "================================================\n",
      "updated time matrix:\n",
      " [[       inf 4.84861187 6.7995738 ]\n",
      " [       inf        inf 3.22690383]\n",
      " [       inf        inf        inf]]\n",
      "new_time=65.13372740668059, \n",
      "old_time=65.78718559198128 \n",
      "================================================\n",
      "updated time matrix:\n",
      " [[       inf 4.76318624 6.8778049 ]\n",
      " [       inf        inf 3.18160765]\n",
      " [       inf        inf        inf]]\n",
      "new_time=64.63770240837013, \n",
      "old_time=65.13372740668059 \n",
      "================================================\n",
      "updated time matrix:\n",
      " [[       inf 4.69209771 6.94628322]\n",
      " [       inf        inf 3.14410218]\n",
      " [       inf        inf        inf]]\n",
      "new_time=64.25881273089085, \n",
      "old_time=64.63770240837013 \n",
      "================================================\n",
      "updated time matrix:\n",
      " [[       inf 4.63275865 7.00594781]\n",
      " [       inf        inf 3.11293074]\n",
      " [       inf        inf        inf]]\n",
      "new_time=63.96752649288752, \n",
      "old_time=64.25881273089085 \n",
      "================================================\n",
      "updated time matrix:\n",
      " [[       inf 4.58309645 7.05773229]\n",
      " [       inf        inf 3.08693962]\n",
      " [       inf        inf        inf]]\n",
      "new_time=63.742109477092505, \n",
      "old_time=63.96752649288752 \n",
      "================================================\n",
      "updated time matrix:\n",
      " [[       inf 4.54143887 7.10253189]\n",
      " [       inf        inf 3.06520742]\n",
      " [       inf        inf        inf]]\n",
      "new_time=63.566498066568684, \n",
      "old_time=63.742109477092505 \n",
      "================================================\n",
      "updated time matrix:\n",
      " [[       inf 4.50642786 7.14118328]\n",
      " [       inf        inf 3.0469927 ]\n",
      " [       inf        inf        inf]]\n",
      "new_time=63.428767686716434, \n",
      "old_time=63.566498066568684 \n",
      "================================================\n",
      "updated time matrix:\n",
      " [[       inf 4.476954   7.17445385]\n",
      " [       inf        inf 3.03169473]\n",
      " [       inf        inf        inf]]\n",
      "new_time=63.32002562643511, \n",
      "old_time=63.428767686716434 \n",
      "================================================\n",
      "updated time matrix:\n",
      " [[       inf 4.45210626 7.20303739]\n",
      " [       inf        inf 3.01882379]\n",
      " [       inf        inf        inf]]\n",
      "new_time=63.2336078889424, \n",
      "old_time=63.32002562643511 \n",
      "================================================\n",
      "updated time matrix:\n",
      " [[       inf 4.43113308 7.22755418]\n",
      " [       inf        inf 3.0079785 ]\n",
      " [       inf        inf        inf]]\n",
      "new_time=63.164494773886496, \n",
      "old_time=63.2336078889424 \n",
      "================================================\n",
      "updated time matrix:\n",
      " [[       inf 4.4134119  7.24855384]\n",
      " [       inf        inf 2.99882829]\n",
      " [       inf        inf        inf]]\n",
      "new_time=63.10888436882358, \n",
      "old_time=63.164494773886496 \n",
      "================================================\n",
      "updated time matrix:\n",
      " [[       inf 4.39842523 7.26651999]\n",
      " [       inf        inf 2.99109971]\n",
      " [       inf        inf        inf]]\n",
      "new_time=63.063880376077854, \n",
      "old_time=63.10888436882358 \n",
      "================================================\n"
     ]
    }
   ],
   "source": [
    "problem.run()"
   ]
  },
  {
   "cell_type": "code",
   "execution_count": 1,
   "metadata": {},
   "outputs": [],
   "source": [
    "def func(x):\n",
    "    if x == 0:\n",
    "        return\n",
    "    print(x)\n",
    "    func(x-1)"
   ]
  },
  {
   "cell_type": "code",
   "execution_count": 2,
   "metadata": {},
   "outputs": [
    {
     "name": "stdout",
     "output_type": "stream",
     "text": [
      "10\n",
      "9\n",
      "8\n",
      "7\n",
      "6\n",
      "5\n",
      "4\n",
      "3\n",
      "2\n",
      "1\n"
     ]
    }
   ],
   "source": [
    "func(10)"
   ]
  },
  {
   "cell_type": "code",
   "execution_count": null,
   "metadata": {},
   "outputs": [],
   "source": []
  }
 ],
 "metadata": {
  "kernelspec": {
   "display_name": "Python 3",
   "language": "python",
   "name": "python3"
  },
  "language_info": {
   "codemirror_mode": {
    "name": "ipython",
    "version": 3
   },
   "file_extension": ".py",
   "mimetype": "text/x-python",
   "name": "python",
   "nbconvert_exporter": "python",
   "pygments_lexer": "ipython3",
   "version": "3.9.13"
  },
  "orig_nbformat": 4
 },
 "nbformat": 4,
 "nbformat_minor": 2
}
