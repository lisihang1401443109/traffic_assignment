{
 "cells": [
  {
   "cell_type": "code",
   "execution_count": 1,
   "metadata": {},
   "outputs": [],
   "source": [
    "import os\n",
    "import runner\n",
    "import pandas as pd\n",
    "from numpy import ndarray, zeros, square, sum, mean\n",
    "import numpy as np"
   ]
  },
  {
   "cell_type": "code",
   "execution_count": 2,
   "metadata": {},
   "outputs": [
    {
     "name": "stdout",
     "output_type": "stream",
     "text": [
      "74 nodes, 258 links, \n",
      "5476 OD pairs\n",
      "Experiment(self.input_path='/home/sihang/workspace/traffic_proj/inputs/EMA/', self.output_path='/home/sihang/workspace/traffic_proj/outputs/EMA/', self.algorithm='dijkstra', self.iteration='constant', self.alpha=0.15, self.threashold=0.05, self.maxIter=20)\n",
      "iter: 1, newtime: 48035.27590234233, oldtime: 51578.09944083453\n",
      "iter: 2, newtime: 36254.55139840167, oldtime: 48035.27590234233\n",
      "iter: 3, newtime: 31301.981956261334, oldtime: 36254.55139840167\n",
      "iter: 4, newtime: 29480.513091166686, oldtime: 31301.981956261334\n",
      "iter: 5, newtime: 29184.860928368373, oldtime: 29480.513091166686\n",
      "converged after 5 iterations\n",
      "4 nodes, 5 links, \n",
      "1 OD pairs\n",
      "Experiment(self.input_path='/home/sihang/workspace/traffic_proj/inputs/Braess/', self.output_path='/home/sihang/workspace/traffic_proj/outputs/Braess/', self.algorithm='dijkstra', self.iteration='constant', self.alpha=0.15, self.threashold=0.05, self.maxIter=20)\n",
      "iter: 1, newtime: 10010.4000216894, oldtime: 11724.000023448\n",
      "iter: 2, newtime: 4529.436339330123, oldtime: 10010.4000216894\n",
      "iter: 3, newtime: 2112.2480472281645, oldtime: 4529.436339330123\n",
      "iter: 4, newtime: 1101.8458936479194, oldtime: 2112.2480472281645\n",
      "iter: 5, newtime: 680.5468913358151, oldtime: 1101.8458936479194\n",
      "iter: 6, newtime: 640.103677663572, oldtime: 680.5468913358151\n",
      "iter: 7, newtime: 607.6968434022799, oldtime: 640.103677663572\n",
      "iter: 8, newtime: 600.7738384467818, oldtime: 607.6968434022799\n",
      "converged after 8 iterations\n",
      "930 nodes, 2522 links, \n",
      "7922 OD pairs\n",
      "Experiment(self.input_path='/home/sihang/workspace/traffic_proj/inputs/Barcelona/', self.output_path='/home/sihang/workspace/traffic_proj/outputs/Barcelona/', self.algorithm='dijkstra', self.iteration='constant', self.alpha=0.15, self.threashold=0.05, self.maxIter=20)\n",
      "iter: 1, newtime: 6.131585353129389e+20, oldtime: 7.212516184750978e+20\n",
      "iter: 2, newtime: 1.4047699898240404e+21, oldtime: 6.131585353129389e+20\n",
      "iter: 3, newtime: 6.727306729815068e+20, oldtime: 1.4047699898240404e+21\n",
      "iter: 4, newtime: 3.201570561284814e+20, oldtime: 6.727306729815068e+20\n",
      "iter: 5, newtime: 1.738827008385292e+20, oldtime: 3.201570561284814e+20\n",
      "iter: 6, newtime: 8.799125475641111e+19, oldtime: 1.738827008385292e+20\n",
      "iter: 7, newtime: 5.0088751617071374e+19, oldtime: 8.799125475641111e+19\n",
      "iter: 8, newtime: 3.122616308187361e+19, oldtime: 5.0088751617071374e+19\n",
      "iter: 9, newtime: 2.503368282965628e+19, oldtime: 3.122616308187361e+19\n",
      "iter: 10, newtime: 1.925317753075757e+19, oldtime: 2.503368282965628e+19\n",
      "iter: 11, newtime: 2.2993418785056887e+19, oldtime: 1.925317753075757e+19\n",
      "iter: 12, newtime: 1.9657356931526394e+19, oldtime: 2.2993418785056887e+19\n",
      "iter: 13, newtime: 1.5084822951418874e+19, oldtime: 1.9657356931526394e+19\n",
      "iter: 14, newtime: 1.430597000523627e+19, oldtime: 1.5084822951418874e+19\n",
      "iter: 15, newtime: 1.117767769208566e+19, oldtime: 1.430597000523627e+19\n",
      "iter: 16, newtime: 1.2036697915083227e+19, oldtime: 1.117767769208566e+19\n",
      "iter: 17, newtime: 4.7400354879485534e+19, oldtime: 1.2036697915083227e+19\n",
      "iter: 18, newtime: 3.2187281464038236e+19, oldtime: 4.7400354879485534e+19\n",
      "iter: 19, newtime: 1.8397758066537052e+19, oldtime: 3.2187281464038236e+19\n",
      "max iter reached\n",
      "1040 nodes, 2836 links, \n",
      "4345 OD pairs\n",
      "Experiment(self.input_path='/home/sihang/workspace/traffic_proj/inputs/Winnipeg/', self.output_path='/home/sihang/workspace/traffic_proj/outputs/Winnipeg/', self.algorithm='dijkstra', self.iteration='constant', self.alpha=0.15, self.threashold=0.05, self.maxIter=20)\n",
      "iter: 1, newtime: 5.002421125582904e+18, oldtime: 5.882986482787557e+18\n",
      "iter: 2, newtime: 1.0107341716248791e+19, oldtime: 5.002421125582904e+18\n",
      "iter: 3, newtime: 5.811435974614582e+18, oldtime: 1.0107341716248791e+19\n",
      "iter: 4, newtime: 3.1699181960319375e+18, oldtime: 5.811435974614582e+18\n",
      "iter: 5, newtime: 2.181780133910941e+18, oldtime: 3.1699181960319375e+18\n",
      "iter: 6, newtime: 1.2618897894959713e+18, oldtime: 2.181780133910941e+18\n",
      "iter: 7, newtime: 8.520346055243151e+17, oldtime: 1.2618897894959713e+18\n",
      "iter: 8, newtime: 6.87125538245589e+17, oldtime: 8.520346055243151e+17\n",
      "iter: 9, newtime: 5.432355308972849e+17, oldtime: 6.87125538245589e+17\n",
      "iter: 10, newtime: 4.70549838295778e+17, oldtime: 5.432355308972849e+17\n",
      "iter: 11, newtime: 6.070581864936229e+17, oldtime: 4.70549838295778e+17\n",
      "iter: 12, newtime: 4.698612151713953e+17, oldtime: 6.070581864936229e+17\n",
      "iter: 13, newtime: 4.2608248731432826e+17, oldtime: 4.698612151713953e+17\n",
      "iter: 14, newtime: 4.380468366759442e+17, oldtime: 4.2608248731432826e+17\n",
      "converged after 14 iterations\n",
      "416 nodes, 914 links, \n",
      "1406 OD pairs\n",
      "Experiment(self.input_path='/home/sihang/workspace/traffic_proj/inputs/Anaheim/', self.output_path='/home/sihang/workspace/traffic_proj/outputs/Anaheim/', self.algorithm='dijkstra', self.iteration='constant', self.alpha=0.15, self.threashold=0.05, self.maxIter=20)\n",
      "iter: 1, newtime: 1601325.7038876885, oldtime: 1646095.3518236794\n",
      "converged after 1 iterations\n",
      "933 nodes, 2950 links, \n",
      "142890 OD pairs\n",
      "Experiment(self.input_path='/home/sihang/workspace/traffic_proj/inputs/ChicagoSketch/', self.output_path='/home/sihang/workspace/traffic_proj/outputs/ChicagoSketch/', self.algorithm='dijkstra', self.iteration='constant', self.alpha=0.15, self.threashold=0.05, self.maxIter=20)\n"
     ]
    },
    {
     "ename": "KeyboardInterrupt",
     "evalue": "",
     "output_type": "error",
     "traceback": [
      "\u001b[0;31m---------------------------------------------------------------------------\u001b[0m",
      "\u001b[0;31mKeyboardInterrupt\u001b[0m                         Traceback (most recent call last)",
      "\u001b[0;32m/tmp/ipykernel_24080/1997705308.py\u001b[0m in \u001b[0;36m<module>\u001b[0;34m\u001b[0m\n\u001b[0;32m----> 1\u001b[0;31m \u001b[0mrunner\u001b[0m\u001b[0;34m.\u001b[0m\u001b[0mrun_all_networks\u001b[0m\u001b[0;34m(\u001b[0m\u001b[0;34m)\u001b[0m\u001b[0;34m\u001b[0m\u001b[0;34m\u001b[0m\u001b[0m\n\u001b[0m",
      "\u001b[0;32m~/workspace/traffic_proj/runner.py\u001b[0m in \u001b[0;36mrun_all_networks\u001b[0;34m(root_folder)\u001b[0m\n\u001b[1;32m     34\u001b[0m         \u001b[0mout_path\u001b[0m \u001b[0;34m=\u001b[0m \u001b[0mroot_folder\u001b[0m \u001b[0;34m+\u001b[0m \u001b[0;34m'/outputs/'\u001b[0m \u001b[0;34m+\u001b[0m \u001b[0mpath\u001b[0m \u001b[0;34m+\u001b[0m \u001b[0;34m'/'\u001b[0m\u001b[0;34m\u001b[0m\u001b[0;34m\u001b[0m\u001b[0m\n\u001b[1;32m     35\u001b[0m         \u001b[0mexperiment\u001b[0m \u001b[0;34m=\u001b[0m \u001b[0mExperiment\u001b[0m\u001b[0;34m(\u001b[0m\u001b[0minput_path\u001b[0m \u001b[0;34m=\u001b[0m \u001b[0min_path\u001b[0m\u001b[0;34m,\u001b[0m \u001b[0moutput_path\u001b[0m \u001b[0;34m=\u001b[0m \u001b[0mout_path\u001b[0m\u001b[0;34m,\u001b[0m \u001b[0malgorithm\u001b[0m \u001b[0;34m=\u001b[0m \u001b[0;34m'dijkstra'\u001b[0m\u001b[0;34m,\u001b[0m \u001b[0miteration\u001b[0m \u001b[0;34m=\u001b[0m \u001b[0;34m'constant'\u001b[0m\u001b[0;34m,\u001b[0m \u001b[0malpha\u001b[0m\u001b[0;34m=\u001b[0m\u001b[0mALPHA\u001b[0m\u001b[0;34m,\u001b[0m \u001b[0mthreshold\u001b[0m\u001b[0;34m=\u001b[0m\u001b[0mTHRESHOLD\u001b[0m\u001b[0;34m,\u001b[0m \u001b[0mmaxIter\u001b[0m \u001b[0;34m=\u001b[0m \u001b[0mMAXITER\u001b[0m\u001b[0;34m)\u001b[0m\u001b[0;34m\u001b[0m\u001b[0;34m\u001b[0m\u001b[0m\n\u001b[0;32m---> 36\u001b[0;31m         \u001b[0mexperiment\u001b[0m\u001b[0;34m.\u001b[0m\u001b[0mrun\u001b[0m\u001b[0;34m(\u001b[0m\u001b[0;34m)\u001b[0m\u001b[0;34m\u001b[0m\u001b[0;34m\u001b[0m\u001b[0m\n\u001b[0m",
      "\u001b[0;32m~/workspace/traffic_proj/runner.py\u001b[0m in \u001b[0;36mrun\u001b[0;34m(self)\u001b[0m\n\u001b[1;32m     26\u001b[0m     \u001b[0;32mdef\u001b[0m \u001b[0mrun\u001b[0m\u001b[0;34m(\u001b[0m\u001b[0mself\u001b[0m\u001b[0;34m)\u001b[0m\u001b[0;34m:\u001b[0m\u001b[0;34m\u001b[0m\u001b[0;34m\u001b[0m\u001b[0m\n\u001b[1;32m     27\u001b[0m         \u001b[0mprint\u001b[0m\u001b[0;34m(\u001b[0m\u001b[0mself\u001b[0m\u001b[0;34m)\u001b[0m\u001b[0;34m\u001b[0m\u001b[0;34m\u001b[0m\u001b[0m\n\u001b[0;32m---> 28\u001b[0;31m         \u001b[0mself\u001b[0m\u001b[0;34m.\u001b[0m\u001b[0mp\u001b[0m\u001b[0;34m.\u001b[0m\u001b[0mrun\u001b[0m\u001b[0;34m(\u001b[0m\u001b[0malgorithm\u001b[0m\u001b[0;34m=\u001b[0m\u001b[0mself\u001b[0m\u001b[0;34m.\u001b[0m\u001b[0malgorithm\u001b[0m\u001b[0;34m,\u001b[0m \u001b[0malpha\u001b[0m\u001b[0;34m=\u001b[0m\u001b[0mself\u001b[0m\u001b[0;34m.\u001b[0m\u001b[0malpha\u001b[0m\u001b[0;34m,\u001b[0m \u001b[0mthreshold\u001b[0m\u001b[0;34m=\u001b[0m \u001b[0mself\u001b[0m\u001b[0;34m.\u001b[0m\u001b[0mthreashold\u001b[0m\u001b[0;34m,\u001b[0m \u001b[0mmaxIter\u001b[0m \u001b[0;34m=\u001b[0m \u001b[0mself\u001b[0m\u001b[0;34m.\u001b[0m\u001b[0mmaxIter\u001b[0m\u001b[0;34m)\u001b[0m\u001b[0;34m\u001b[0m\u001b[0;34m\u001b[0m\u001b[0m\n\u001b[0m\u001b[1;32m     29\u001b[0m         \u001b[0mself\u001b[0m\u001b[0;34m.\u001b[0m\u001b[0mp\u001b[0m\u001b[0;34m.\u001b[0m\u001b[0moutput_result\u001b[0m\u001b[0;34m(\u001b[0m\u001b[0mself\u001b[0m\u001b[0;34m.\u001b[0m\u001b[0moutput_path\u001b[0m \u001b[0;34m+\u001b[0m \u001b[0mself\u001b[0m\u001b[0;34m.\u001b[0m\u001b[0malgorithm\u001b[0m \u001b[0;34m+\u001b[0m \u001b[0;34m'_'\u001b[0m \u001b[0;34m+\u001b[0m \u001b[0mself\u001b[0m\u001b[0;34m.\u001b[0m\u001b[0miteration\u001b[0m \u001b[0;34m+\u001b[0m \u001b[0;34m'.csv'\u001b[0m\u001b[0;34m)\u001b[0m\u001b[0;34m\u001b[0m\u001b[0;34m\u001b[0m\u001b[0m\n\u001b[1;32m     30\u001b[0m \u001b[0;34m\u001b[0m\u001b[0m\n",
      "\u001b[0;32m~/workspace/traffic_proj/model.py\u001b[0m in \u001b[0;36mrun\u001b[0;34m(self, algorithm, alpha, threshold, maxIter)\u001b[0m\n\u001b[1;32m    334\u001b[0m     \u001b[0;32mdef\u001b[0m \u001b[0mrun\u001b[0m\u001b[0;34m(\u001b[0m\u001b[0mself\u001b[0m\u001b[0;34m,\u001b[0m \u001b[0malgorithm\u001b[0m\u001b[0;34m=\u001b[0m\u001b[0;34m'dijkstra'\u001b[0m\u001b[0;34m,\u001b[0m \u001b[0malpha\u001b[0m\u001b[0;34m=\u001b[0m\u001b[0;36m0.15\u001b[0m\u001b[0;34m,\u001b[0m \u001b[0mthreshold\u001b[0m\u001b[0;34m=\u001b[0m\u001b[0;36m0.05\u001b[0m\u001b[0;34m,\u001b[0m \u001b[0mmaxIter\u001b[0m \u001b[0;34m=\u001b[0m \u001b[0;36m100\u001b[0m\u001b[0;34m)\u001b[0m\u001b[0;34m:\u001b[0m\u001b[0;34m\u001b[0m\u001b[0;34m\u001b[0m\u001b[0m\n\u001b[1;32m    335\u001b[0m         \u001b[0;31m# print('initializing============================================================')\u001b[0m\u001b[0;34m\u001b[0m\u001b[0;34m\u001b[0m\u001b[0m\n\u001b[0;32m--> 336\u001b[0;31m         \u001b[0mself\u001b[0m\u001b[0;34m.\u001b[0m\u001b[0mgraph\u001b[0m\u001b[0;34m.\u001b[0m\u001b[0mcalculate_time_matrix\u001b[0m\u001b[0;34m(\u001b[0m\u001b[0;34m)\u001b[0m\u001b[0;34m\u001b[0m\u001b[0;34m\u001b[0m\u001b[0m\n\u001b[0m\u001b[1;32m    337\u001b[0m         \u001b[0moptimal\u001b[0m \u001b[0;34m=\u001b[0m \u001b[0mself\u001b[0m\u001b[0;34m.\u001b[0m\u001b[0moptimal\u001b[0m\u001b[0;34m(\u001b[0m\u001b[0;34m)\u001b[0m\u001b[0;34m\u001b[0m\u001b[0;34m\u001b[0m\u001b[0m\n\u001b[1;32m    338\u001b[0m         \u001b[0mself\u001b[0m\u001b[0;34m.\u001b[0m\u001b[0mgraph\u001b[0m\u001b[0;34m.\u001b[0m\u001b[0m_assign_flow\u001b[0m\u001b[0;34m(\u001b[0m\u001b[0moptimal\u001b[0m\u001b[0;34m)\u001b[0m\u001b[0;34m\u001b[0m\u001b[0;34m\u001b[0m\u001b[0m\n",
      "\u001b[0;32m~/workspace/traffic_proj/model.py\u001b[0m in \u001b[0;36moptimal\u001b[0;34m(self)\u001b[0m\n\u001b[1;32m    280\u001b[0m                 \u001b[0;31m# print(f'od:{i=}{j=}{amount=} ============================================')\u001b[0m\u001b[0;34m\u001b[0m\u001b[0;34m\u001b[0m\u001b[0m\n\u001b[1;32m    281\u001b[0m                 \u001b[0;32mif\u001b[0m \u001b[0morigin\u001b[0m \u001b[0;34m==\u001b[0m \u001b[0mdestination\u001b[0m\u001b[0;34m:\u001b[0m\u001b[0;34m\u001b[0m\u001b[0;34m\u001b[0m\u001b[0m\n\u001b[0;32m--> 282\u001b[0;31m                     \u001b[0;32mcontinue\u001b[0m\u001b[0;34m\u001b[0m\u001b[0;34m\u001b[0m\u001b[0m\n\u001b[0m\u001b[1;32m    283\u001b[0m                 \u001b[0mprev\u001b[0m\u001b[0;34m,\u001b[0m \u001b[0mdist\u001b[0m \u001b[0;34m=\u001b[0m \u001b[0mself\u001b[0m\u001b[0;34m.\u001b[0m\u001b[0mgraph\u001b[0m\u001b[0;34m.\u001b[0m\u001b[0mdijkstra\u001b[0m\u001b[0;34m(\u001b[0m\u001b[0morigin\u001b[0m\u001b[0;34m)\u001b[0m\u001b[0;34m\u001b[0m\u001b[0;34m\u001b[0m\u001b[0m\n\u001b[1;32m    284\u001b[0m                 \u001b[0mcnode\u001b[0m \u001b[0;34m=\u001b[0m \u001b[0mself\u001b[0m\u001b[0;34m.\u001b[0m\u001b[0mgraph\u001b[0m\u001b[0;34m.\u001b[0m\u001b[0mlookup\u001b[0m\u001b[0;34m[\u001b[0m\u001b[0mdestination\u001b[0m\u001b[0;34m]\u001b[0m\u001b[0;34m\u001b[0m\u001b[0;34m\u001b[0m\u001b[0m\n",
      "\u001b[0;32m~/workspace/traffic_proj/model.py\u001b[0m in \u001b[0;36minner\u001b[0;34m(self, *args, **kwargs)\u001b[0m\n\u001b[1;32m     20\u001b[0m         \u001b[0;32mif\u001b[0m \u001b[0margs\u001b[0m \u001b[0;32min\u001b[0m \u001b[0mself\u001b[0m\u001b[0;34m.\u001b[0m\u001b[0m_cache\u001b[0m\u001b[0;34m:\u001b[0m\u001b[0;34m\u001b[0m\u001b[0;34m\u001b[0m\u001b[0m\n\u001b[1;32m     21\u001b[0m             \u001b[0mprint\u001b[0m\u001b[0;34m(\u001b[0m\u001b[0;34m'cache hit'\u001b[0m\u001b[0;34m)\u001b[0m\u001b[0;34m\u001b[0m\u001b[0;34m\u001b[0m\u001b[0m\n\u001b[0;32m---> 22\u001b[0;31m             \u001b[0;32mreturn\u001b[0m \u001b[0mself\u001b[0m\u001b[0;34m.\u001b[0m\u001b[0m_cache\u001b[0m\u001b[0;34m[\u001b[0m\u001b[0margs\u001b[0m\u001b[0;34m]\u001b[0m\u001b[0;34m\u001b[0m\u001b[0;34m\u001b[0m\u001b[0m\n\u001b[0m\u001b[1;32m     23\u001b[0m         \u001b[0mresult\u001b[0m \u001b[0;34m=\u001b[0m \u001b[0mfunc\u001b[0m\u001b[0;34m(\u001b[0m\u001b[0mself\u001b[0m\u001b[0;34m,\u001b[0m \u001b[0;34m*\u001b[0m\u001b[0margs\u001b[0m\u001b[0;34m,\u001b[0m \u001b[0;34m**\u001b[0m\u001b[0mkwargs\u001b[0m\u001b[0;34m)\u001b[0m\u001b[0;34m\u001b[0m\u001b[0;34m\u001b[0m\u001b[0m\n\u001b[1;32m     24\u001b[0m         \u001b[0mself\u001b[0m\u001b[0;34m.\u001b[0m\u001b[0m_cache\u001b[0m\u001b[0;34m[\u001b[0m\u001b[0margs\u001b[0m\u001b[0;34m]\u001b[0m \u001b[0;34m=\u001b[0m \u001b[0mresult\u001b[0m\u001b[0;34m\u001b[0m\u001b[0;34m\u001b[0m\u001b[0m\n",
      "\u001b[0;32m~/workspace/traffic_proj/model.py\u001b[0m in \u001b[0;36mdijkstra\u001b[0;34m(self, origin)\u001b[0m\n\u001b[1;32m    206\u001b[0m             \u001b[0;31m# min_index: the closest next node\u001b[0m\u001b[0;34m\u001b[0m\u001b[0;34m\u001b[0m\u001b[0m\n\u001b[1;32m    207\u001b[0m             \u001b[0mmin_index\u001b[0m \u001b[0;34m=\u001b[0m \u001b[0mmin\u001b[0m\u001b[0;34m(\u001b[0m\u001b[0mto_visit\u001b[0m\u001b[0;34m,\u001b[0m \u001b[0mkey\u001b[0m \u001b[0;34m=\u001b[0m \u001b[0;32mlambda\u001b[0m \u001b[0mx\u001b[0m\u001b[0;34m:\u001b[0m \u001b[0mdistances\u001b[0m\u001b[0;34m[\u001b[0m\u001b[0mx\u001b[0m\u001b[0;34m]\u001b[0m\u001b[0;34m)\u001b[0m\u001b[0;34m\u001b[0m\u001b[0;34m\u001b[0m\u001b[0m\n\u001b[0;32m--> 208\u001b[0;31m             \u001b[0mto_visit\u001b[0m\u001b[0;34m.\u001b[0m\u001b[0mremove\u001b[0m\u001b[0;34m(\u001b[0m\u001b[0mmin_index\u001b[0m\u001b[0;34m)\u001b[0m\u001b[0;34m\u001b[0m\u001b[0;34m\u001b[0m\u001b[0m\n\u001b[0m\u001b[1;32m    209\u001b[0m             \u001b[0mneighbours\u001b[0m \u001b[0;34m=\u001b[0m \u001b[0mself\u001b[0m\u001b[0;34m.\u001b[0m\u001b[0mneighbours\u001b[0m\u001b[0;34m(\u001b[0m\u001b[0mself\u001b[0m\u001b[0;34m.\u001b[0m\u001b[0mnodes\u001b[0m\u001b[0;34m[\u001b[0m\u001b[0mmin_index\u001b[0m\u001b[0;34m]\u001b[0m\u001b[0;34m)\u001b[0m\u001b[0;34m\u001b[0m\u001b[0;34m\u001b[0m\u001b[0m\n\u001b[1;32m    210\u001b[0m             \u001b[0;31m# update the neighbours\u001b[0m\u001b[0;34m\u001b[0m\u001b[0;34m\u001b[0m\u001b[0m\n",
      "\u001b[0;32m~/workspace/traffic_proj/model.py\u001b[0m in \u001b[0;36mneighbours\u001b[0;34m(self, node)\u001b[0m\n\u001b[1;32m    176\u001b[0m         \u001b[0mself\u001b[0m\u001b[0;34m.\u001b[0m\u001b[0mflow_matrix\u001b[0m \u001b[0;34m=\u001b[0m \u001b[0mnew_flow_matrix\u001b[0m\u001b[0;34m\u001b[0m\u001b[0;34m\u001b[0m\u001b[0m\n\u001b[1;32m    177\u001b[0m \u001b[0;34m\u001b[0m\u001b[0m\n\u001b[0;32m--> 178\u001b[0;31m     \u001b[0;32mdef\u001b[0m \u001b[0mneighbours\u001b[0m\u001b[0;34m(\u001b[0m\u001b[0mself\u001b[0m\u001b[0;34m,\u001b[0m \u001b[0mnode\u001b[0m\u001b[0;34m:\u001b[0m\u001b[0mNode\u001b[0m\u001b[0;34m)\u001b[0m \u001b[0;34m->\u001b[0m \u001b[0mlist\u001b[0m\u001b[0;34m[\u001b[0m\u001b[0mLink\u001b[0m\u001b[0;34m]\u001b[0m\u001b[0;34m:\u001b[0m\u001b[0;34m\u001b[0m\u001b[0;34m\u001b[0m\u001b[0m\n\u001b[0m\u001b[1;32m    179\u001b[0m         \u001b[0;32mreturn\u001b[0m \u001b[0;34m[\u001b[0m\u001b[0mlink\u001b[0m \u001b[0;32mfor\u001b[0m \u001b[0mlink\u001b[0m \u001b[0;32min\u001b[0m \u001b[0mself\u001b[0m\u001b[0;34m.\u001b[0m\u001b[0mlinks\u001b[0m \u001b[0;32mif\u001b[0m \u001b[0mlink\u001b[0m\u001b[0;34m.\u001b[0m\u001b[0mstart\u001b[0m \u001b[0;34m==\u001b[0m \u001b[0mnode\u001b[0m\u001b[0;34m]\u001b[0m\u001b[0;34m\u001b[0m\u001b[0;34m\u001b[0m\u001b[0m\n\u001b[1;32m    180\u001b[0m \u001b[0;34m\u001b[0m\u001b[0m\n",
      "\u001b[0;32m~/workspace/traffic_proj/model.py\u001b[0m in \u001b[0;36m<listcomp>\u001b[0;34m(.0)\u001b[0m\n\u001b[1;32m    176\u001b[0m         \u001b[0mself\u001b[0m\u001b[0;34m.\u001b[0m\u001b[0mflow_matrix\u001b[0m \u001b[0;34m=\u001b[0m \u001b[0mnew_flow_matrix\u001b[0m\u001b[0;34m\u001b[0m\u001b[0;34m\u001b[0m\u001b[0m\n\u001b[1;32m    177\u001b[0m \u001b[0;34m\u001b[0m\u001b[0m\n\u001b[0;32m--> 178\u001b[0;31m     \u001b[0;32mdef\u001b[0m \u001b[0mneighbours\u001b[0m\u001b[0;34m(\u001b[0m\u001b[0mself\u001b[0m\u001b[0;34m,\u001b[0m \u001b[0mnode\u001b[0m\u001b[0;34m:\u001b[0m\u001b[0mNode\u001b[0m\u001b[0;34m)\u001b[0m \u001b[0;34m->\u001b[0m \u001b[0mlist\u001b[0m\u001b[0;34m[\u001b[0m\u001b[0mLink\u001b[0m\u001b[0;34m]\u001b[0m\u001b[0;34m:\u001b[0m\u001b[0;34m\u001b[0m\u001b[0;34m\u001b[0m\u001b[0m\n\u001b[0m\u001b[1;32m    179\u001b[0m         \u001b[0;32mreturn\u001b[0m \u001b[0;34m[\u001b[0m\u001b[0mlink\u001b[0m \u001b[0;32mfor\u001b[0m \u001b[0mlink\u001b[0m \u001b[0;32min\u001b[0m \u001b[0mself\u001b[0m\u001b[0;34m.\u001b[0m\u001b[0mlinks\u001b[0m \u001b[0;32mif\u001b[0m \u001b[0mlink\u001b[0m\u001b[0;34m.\u001b[0m\u001b[0mstart\u001b[0m \u001b[0;34m==\u001b[0m \u001b[0mnode\u001b[0m\u001b[0;34m]\u001b[0m\u001b[0;34m\u001b[0m\u001b[0;34m\u001b[0m\u001b[0m\n\u001b[1;32m    180\u001b[0m \u001b[0;34m\u001b[0m\u001b[0m\n",
      "\u001b[0;31mKeyboardInterrupt\u001b[0m: "
     ]
    }
   ],
   "source": [
    "runner.run_all_networks()"
   ]
  },
  {
   "cell_type": "code",
   "execution_count": null,
   "metadata": {},
   "outputs": [],
   "source": [
    "'''\n",
    "    this function loads one of the tntp/csv file into pandas dataframe, with the information about init_node, term_node, and flow.\n",
    "    This function should also turn the pandas dataframe into a ndarray.\n",
    "'''\n",
    "def load_matrix_from_flow(input_path) -> ndarray:\n",
    "    if 'tntp' in input_path:\n",
    "        # process tntp format file\n",
    "        df = pd.read_csv(input_path, skiprows=3, sep='\\t')\n",
    "    else:\n",
    "        df = pd.read_csv(input_path)\n",
    "    # df has 3 columns: init_node, term_node, flow\n",
    "    # I would like to turn it into a ndarray where arr[init_node][term_node] = flow\n",
    "    max_node = max(df['init_node'].max(), df['term_node'].max())\n",
    "    arr = zeros((max_node+1, max_node+1))\n",
    "    for ind in df.index:\n",
    "        arr[int(df.iloc[ind]['init_node']), int(df.iloc[ind]['term_node'])] = df.iloc[ind]['flow']\n",
    "\n",
    "    return arr\n",
    "    \n",
    "    \n"
   ]
  },
  {
   "cell_type": "code",
   "execution_count": null,
   "metadata": {},
   "outputs": [
    {
     "data": {
      "text/plain": [
       "['EMA',\n",
       " 'Braess',\n",
       " 'Barcelona',\n",
       " 'Winnipeg',\n",
       " 'Anaheim',\n",
       " 'ChicagoSketch',\n",
       " 'SiouxFalls']"
      ]
     },
     "execution_count": 4,
     "metadata": {},
     "output_type": "execute_result"
    }
   ],
   "source": [
    "list_folders = os.listdir('/home/sihang/workspace/traffic_proj/control')\n",
    "list_folders"
   ]
  },
  {
   "cell_type": "code",
   "execution_count": null,
   "metadata": {},
   "outputs": [
    {
     "name": "stdout",
     "output_type": "stream",
     "text": [
      "EMA\n",
      "14414.939890762853\n",
      "Braess\n",
      "0.791739582262438\n",
      "Barcelona\n",
      "5633.911996217607\n",
      "Winnipeg\n",
      "1091.4392713510103\n",
      "Anaheim\n",
      "2198.3235621946037\n",
      "ChicagoSketch\n",
      "3138.904081218034\n",
      "SiouxFalls\n",
      "1761214.3600426323\n"
     ]
    }
   ],
   "source": [
    "matrices = []\n",
    "for folder in list_folders:\n",
    "    print(folder)\n",
    "    mat1 = load_matrix_from_flow('/home/sihang/workspace/traffic_proj/control/' + folder + '/' + folder + '_flow.tntp')\n",
    "    mat2 = load_matrix_from_flow('/home/sihang/workspace/traffic_proj/outputs/' + folder + '/' + 'dijkstra_constant.csv')\n",
    "    mse = mean(square(mat1 - mat2))\n",
    "    matrices.append(np.abs(mat1 - mat2))\n",
    "    print(mse)"
   ]
  },
  {
   "cell_type": "code",
   "execution_count": null,
   "metadata": {},
   "outputs": [
    {
     "data": {
      "text/plain": [
       "array([[0., 0., 0., ..., 0., 0., 0.],\n",
       "       [0., 0., 0., ..., 0., 0., 0.],\n",
       "       [0., 0., 0., ..., 0., 0., 0.],\n",
       "       ...,\n",
       "       [0., 0., 0., ..., 0., 0., 0.],\n",
       "       [0., 0., 0., ..., 0., 0., 0.],\n",
       "       [0., 0., 0., ..., 0., 0., 0.]])"
      ]
     },
     "execution_count": 6,
     "metadata": {},
     "output_type": "execute_result"
    }
   ],
   "source": [
    "load_matrix_from_flow('./control/Anaheim/Anaheim_flow.tntp')"
   ]
  },
  {
   "cell_type": "code",
   "execution_count": null,
   "metadata": {},
   "outputs": [],
   "source": [
    "df = pd.read_csv('./control/Anaheim/Anaheim_flow.tntp', skiprows=3, sep='\\t')"
   ]
  },
  {
   "cell_type": "code",
   "execution_count": null,
   "metadata": {},
   "outputs": [
    {
     "name": "stdout",
     "output_type": "stream",
     "text": [
      "74 nodes, 258 links, \n",
      "5476 OD pairs\n"
     ]
    }
   ],
   "source": [
    "EMA = runner.Experiment('./inputs/EMA/', './outputs/EMA/', maxIter=1000)"
   ]
  },
  {
   "cell_type": "code",
   "execution_count": null,
   "metadata": {},
   "outputs": [
    {
     "name": "stdout",
     "output_type": "stream",
     "text": [
      "Experiment(self.input_path='./inputs/EMA/', self.output_path='./outputs/EMA/', self.algorithm='dijkstra', self.iteration='constant', self.alpha=0.15, self.threashold=500, self.maxIter=1000)\n"
     ]
    }
   ],
   "source": [
    "EMA.run()"
   ]
  },
  {
   "cell_type": "code",
   "execution_count": null,
   "metadata": {},
   "outputs": [],
   "source": []
  }
 ],
 "metadata": {
  "kernelspec": {
   "display_name": "Python 3",
   "language": "python",
   "name": "python3"
  },
  "language_info": {
   "codemirror_mode": {
    "name": "ipython",
    "version": 3
   },
   "file_extension": ".py",
   "mimetype": "text/x-python",
   "name": "python",
   "nbconvert_exporter": "python",
   "pygments_lexer": "ipython3",
   "version": "3.9.13"
  },
  "orig_nbformat": 4
 },
 "nbformat": 4,
 "nbformat_minor": 2
}
