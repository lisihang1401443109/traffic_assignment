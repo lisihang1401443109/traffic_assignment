{
 "cells": [
  {
   "cell_type": "code",
   "execution_count": 1,
   "metadata": {},
   "outputs": [],
   "source": [
    "import os\n",
    "import runner\n",
    "import pandas as pd\n",
    "from numpy import ndarray, zeros, square, sum, mean\n",
    "import numpy as np"
   ]
  },
  {
   "cell_type": "code",
   "execution_count": 2,
   "metadata": {},
   "outputs": [
    {
     "name": "stdout",
     "output_type": "stream",
     "text": [
      "74 nodes, 258 links, \n",
      "5476 OD pairs\n",
      "Experiment(self.input_path='/home/sihang/workspace/traffic_proj/inputs/EMA/', self.output_path='/home/sihang/workspace/traffic_proj/outputs/EMA/', self.algorithm='dijkstra', self.iteration='constant', self.alpha=0.15, self.threashold=0.05, self.maxIter=20)\n",
      "iter: 1, newtime: 48035.27590234233, oldtime: 51578.09944083453\n",
      "iter: 2, newtime: 36254.55139840167, oldtime: 48035.27590234233\n",
      "iter: 3, newtime: 31301.981956261334, oldtime: 36254.55139840167\n",
      "iter: 4, newtime: 29480.513091166686, oldtime: 31301.981956261334\n",
      "iter: 5, newtime: 29184.860928368373, oldtime: 29480.513091166686\n",
      "converged after 5 iterations\n",
      "4 nodes, 5 links, \n",
      "1 OD pairs\n",
      "Experiment(self.input_path='/home/sihang/workspace/traffic_proj/inputs/Braess/', self.output_path='/home/sihang/workspace/traffic_proj/outputs/Braess/', self.algorithm='dijkstra', self.iteration='constant', self.alpha=0.15, self.threashold=0.05, self.maxIter=20)\n",
      "iter: 1, newtime: 10010.4000216894, oldtime: 11724.000023448\n",
      "iter: 2, newtime: 4529.436339330123, oldtime: 10010.4000216894\n",
      "iter: 3, newtime: 2112.2480472281645, oldtime: 4529.436339330123\n",
      "iter: 4, newtime: 1101.8458936479194, oldtime: 2112.2480472281645\n",
      "iter: 5, newtime: 680.5468913358151, oldtime: 1101.8458936479194\n",
      "iter: 6, newtime: 640.103677663572, oldtime: 680.5468913358151\n",
      "iter: 7, newtime: 607.6968434022799, oldtime: 640.103677663572\n",
      "iter: 8, newtime: 600.7738384467818, oldtime: 607.6968434022799\n",
      "converged after 8 iterations\n",
      "930 nodes, 2522 links, \n",
      "7922 OD pairs\n",
      "Experiment(self.input_path='/home/sihang/workspace/traffic_proj/inputs/Barcelona/', self.output_path='/home/sihang/workspace/traffic_proj/outputs/Barcelona/', self.algorithm='dijkstra', self.iteration='constant', self.alpha=0.15, self.threashold=0.05, self.maxIter=20)\n",
      "iter: 1, newtime: 6.131585353129389e+20, oldtime: 7.212516184750978e+20\n"
     ]
    }
   ],
   "source": [
    "runner.run_all_networks()"
   ]
  },
  {
   "cell_type": "code",
   "execution_count": null,
   "metadata": {},
   "outputs": [],
   "source": [
    "'''\n",
    "    this function loads one of the tntp/csv file into pandas dataframe, with the information about init_node, term_node, and flow.\n",
    "    This function should also turn the pandas dataframe into a ndarray.\n",
    "'''\n",
    "def load_matrix_from_flow(input_path) -> ndarray:\n",
    "    if 'tntp' in input_path:\n",
    "        # process tntp format file\n",
    "        df = pd.read_csv(input_path, skiprows=3, sep='\\t')\n",
    "    else:\n",
    "        df = pd.read_csv(input_path)\n",
    "    # df has 3 columns: init_node, term_node, flow\n",
    "    # I would like to turn it into a ndarray where arr[init_node][term_node] = flow\n",
    "    max_node = max(df['init_node'].max(), df['term_node'].max())\n",
    "    arr = zeros((max_node+1, max_node+1))\n",
    "    for ind in df.index:\n",
    "        arr[int(df.iloc[ind]['init_node']), int(df.iloc[ind]['term_node'])] = df.iloc[ind]['flow']\n",
    "\n",
    "    return arr\n",
    "    \n",
    "    \n"
   ]
  },
  {
   "cell_type": "code",
   "execution_count": null,
   "metadata": {},
   "outputs": [
    {
     "data": {
      "text/plain": [
       "['EMA',\n",
       " 'Braess',\n",
       " 'Barcelona',\n",
       " 'Winnipeg',\n",
       " 'Anaheim',\n",
       " 'ChicagoSketch',\n",
       " 'SiouxFalls']"
      ]
     },
     "execution_count": 4,
     "metadata": {},
     "output_type": "execute_result"
    }
   ],
   "source": [
    "list_folders = os.listdir('/home/sihang/workspace/traffic_proj/control')\n",
    "list_folders"
   ]
  },
  {
   "cell_type": "code",
   "execution_count": null,
   "metadata": {},
   "outputs": [
    {
     "name": "stdout",
     "output_type": "stream",
     "text": [
      "EMA\n",
      "14414.939890762853\n",
      "Braess\n",
      "0.791739582262438\n",
      "Barcelona\n",
      "5633.911996217607\n",
      "Winnipeg\n",
      "1091.4392713510103\n",
      "Anaheim\n",
      "2198.3235621946037\n",
      "ChicagoSketch\n",
      "3138.904081218034\n",
      "SiouxFalls\n",
      "1761214.3600426323\n"
     ]
    }
   ],
   "source": [
    "matrices = []\n",
    "for folder in list_folders:\n",
    "    print(folder)\n",
    "    mat1 = load_matrix_from_flow('/home/sihang/workspace/traffic_proj/control/' + folder + '/' + folder + '_flow.tntp')\n",
    "    mat2 = load_matrix_from_flow('/home/sihang/workspace/traffic_proj/outputs/' + folder + '/' + 'dijkstra_constant.csv')\n",
    "    mse = mean(square(mat1 - mat2))\n",
    "    matrices.append(np.abs(mat1 - mat2))\n",
    "    print(mse)"
   ]
  },
  {
   "cell_type": "code",
   "execution_count": null,
   "metadata": {},
   "outputs": [
    {
     "data": {
      "text/plain": [
       "array([[0., 0., 0., ..., 0., 0., 0.],\n",
       "       [0., 0., 0., ..., 0., 0., 0.],\n",
       "       [0., 0., 0., ..., 0., 0., 0.],\n",
       "       ...,\n",
       "       [0., 0., 0., ..., 0., 0., 0.],\n",
       "       [0., 0., 0., ..., 0., 0., 0.],\n",
       "       [0., 0., 0., ..., 0., 0., 0.]])"
      ]
     },
     "execution_count": 6,
     "metadata": {},
     "output_type": "execute_result"
    }
   ],
   "source": [
    "load_matrix_from_flow('./control/Anaheim/Anaheim_flow.tntp')"
   ]
  },
  {
   "cell_type": "code",
   "execution_count": null,
   "metadata": {},
   "outputs": [],
   "source": [
    "df = pd.read_csv('./control/Anaheim/Anaheim_flow.tntp', skiprows=3, sep='\\t')"
   ]
  },
  {
   "cell_type": "code",
   "execution_count": null,
   "metadata": {},
   "outputs": [
    {
     "name": "stdout",
     "output_type": "stream",
     "text": [
      "74 nodes, 258 links, \n",
      "5476 OD pairs\n"
     ]
    }
   ],
   "source": [
    "EMA = runner.Experiment('./inputs/EMA/', './outputs/EMA/', maxIter=1000)"
   ]
  },
  {
   "cell_type": "code",
   "execution_count": null,
   "metadata": {},
   "outputs": [
    {
     "name": "stdout",
     "output_type": "stream",
     "text": [
      "Experiment(self.input_path='./inputs/EMA/', self.output_path='./outputs/EMA/', self.algorithm='dijkstra', self.iteration='constant', self.alpha=0.15, self.threashold=500, self.maxIter=1000)\n"
     ]
    }
   ],
   "source": [
    "EMA.run()"
   ]
  },
  {
   "cell_type": "code",
   "execution_count": null,
   "metadata": {},
   "outputs": [],
   "source": []
  }
 ],
 "metadata": {
  "kernelspec": {
   "display_name": "Python 3",
   "language": "python",
   "name": "python3"
  },
  "language_info": {
   "codemirror_mode": {
    "name": "ipython",
    "version": 3
   },
   "file_extension": ".py",
   "mimetype": "text/x-python",
   "name": "python",
   "nbconvert_exporter": "python",
   "pygments_lexer": "ipython3",
   "version": "3.9.13"
  },
  "orig_nbformat": 4
 },
 "nbformat": 4,
 "nbformat_minor": 2
}
