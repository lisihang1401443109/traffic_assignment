{
 "cells": [
  {
   "cell_type": "code",
   "execution_count": 1,
   "metadata": {},
   "outputs": [],
   "source": [
    "import runner"
   ]
  },
  {
   "cell_type": "code",
   "execution_count": 2,
   "metadata": {},
   "outputs": [
    {
     "name": "stdout",
     "output_type": "stream",
     "text": [
      "4 nodes, 5 links, \n",
      "1 OD pairs\n"
     ]
    }
   ],
   "source": [
    "p = runner.generate_problem(problem_name='Braess')"
   ]
  },
  {
   "cell_type": "code",
   "execution_count": 3,
   "metadata": {},
   "outputs": [
    {
     "name": "stdout",
     "output_type": "stream",
     "text": [
      "Set parameter Username\n"
     ]
    },
    {
     "ename": "GurobiError",
     "evalue": "HostID mismatch (licensed to 5dcd5fb3, hostid is 5dfbda32)",
     "output_type": "error",
     "traceback": [
      "\u001b[0;31m---------------------------------------------------------------------------\u001b[0m",
      "\u001b[0;31mGurobiError\u001b[0m                               Traceback (most recent call last)",
      "\u001b[1;32m/home/vobbukyo/workspace/traffic_assignment-1/test3.ipynb Cell 3\u001b[0m line \u001b[0;36m1\n\u001b[0;32m----> <a href='vscode-notebook-cell://wsl%2Bubuntu/home/vobbukyo/workspace/traffic_assignment-1/test3.ipynb#W2sdnNjb2RlLXJlbW90ZQ%3D%3D?line=0'>1</a>\u001b[0m m \u001b[39m=\u001b[39m p\u001b[39m.\u001b[39;49mget_gp_model(\u001b[39m5\u001b[39;49m)\n",
      "File \u001b[0;32m~/workspace/traffic_assignment-1/model.py:591\u001b[0m, in \u001b[0;36mProblem.get_gp_model\u001b[0;34m(self, num_xfc)\u001b[0m\n\u001b[1;32m    590\u001b[0m \u001b[39mdef\u001b[39;00m \u001b[39mget_gp_model\u001b[39m(\u001b[39mself\u001b[39m, num_xfc):\n\u001b[0;32m--> 591\u001b[0m     m \u001b[39m=\u001b[39m grb\u001b[39m.\u001b[39;49mModel()\n\u001b[1;32m    592\u001b[0m     \u001b[39m# BPR: fft * (1 + alpha * pow((flow/capacity), beta))\u001b[39;00m\n\u001b[1;32m    593\u001b[0m     links \u001b[39m=\u001b[39m \u001b[39mself\u001b[39m\u001b[39m.\u001b[39mgraph\u001b[39m.\u001b[39mlinkset\n",
      "File \u001b[0;32msrc/gurobipy/model.pxi:69\u001b[0m, in \u001b[0;36mgurobipy.Model.__init__\u001b[0;34m()\u001b[0m\n",
      "File \u001b[0;32msrc/gurobipy/gurobi.pxi:28\u001b[0m, in \u001b[0;36mgurobipy.gurobi._getdefaultenv\u001b[0;34m()\u001b[0m\n",
      "File \u001b[0;32msrc/gurobipy/env.pxi:62\u001b[0m, in \u001b[0;36mgurobipy.Env.__init__\u001b[0;34m()\u001b[0m\n",
      "\u001b[0;31mGurobiError\u001b[0m: HostID mismatch (licensed to 5dcd5fb3, hostid is 5dfbda32)"
     ]
    }
   ],
   "source": [
    "m = p.get_gp_model(5)"
   ]
  },
  {
   "cell_type": "code",
   "execution_count": 4,
   "metadata": {},
   "outputs": [],
   "source": [
    "m.update()"
   ]
  },
  {
   "cell_type": "code",
   "execution_count": 5,
   "metadata": {},
   "outputs": [],
   "source": [
    "m.write('model.lp')"
   ]
  },
  {
   "cell_type": "code",
   "execution_count": 6,
   "metadata": {},
   "outputs": [],
   "source": [
    "d = m.getVarByName('min_dist')"
   ]
  },
  {
   "cell_type": "code",
   "execution_count": 7,
   "metadata": {},
   "outputs": [
    {
     "name": "stdout",
     "output_type": "stream",
     "text": [
      "Gurobi Optimizer version 10.0.3 build v10.0.3rc0 (linux64)\n",
      "\n",
      "CPU model: AMD Ryzen 7 6800U with Radeon Graphics, instruction set [SSE2|AVX|AVX2]\n",
      "Thread count: 8 physical cores, 16 logical processors, using up to 16 threads\n",
      "\n",
      "Optimize a model with 25 rows, 624 columns and 48 nonzeros\n",
      "Model fingerprint: 0xc8039f40\n",
      "Model has 1128 general constraints\n",
      "Variable types: 600 continuous, 24 integer (24 binary)\n",
      "Coefficient statistics:\n",
      "  Matrix range     [1e+00, 1e+00]\n",
      "  Objective range  [1e+00, 1e+00]\n",
      "  Bounds range     [1e+00, 1e+00]\n",
      "  RHS range        [5e+00, 5e+00]\n",
      "  GenCon rhs range [2e+00, 1e+100]\n",
      "  GenCon coe range [1e+00, 1e+00]\n",
      "Warning: Model contains large rhs on indicator constraints\n",
      "         Consider reformulating model or setting NumericFocus parameter\n",
      "         to avoid numerical issues.\n",
      "Presolve added 1080 rows and 1056 columns\n",
      "Presolve time: 0.01s\n",
      "Presolved: 1105 rows, 1680 columns, 2232 nonzeros\n",
      "Presolved model has 1104 SOS constraint(s)\n",
      "Variable types: 1104 continuous, 576 integer (576 binary)\n",
      "\n",
      "Root relaxation: objective 0.000000e+00, 554 iterations, 0.00 seconds (0.00 work units)\n",
      "\n",
      "    Nodes    |    Current Node    |     Objective Bounds      |     Work\n",
      " Expl Unexpl |  Obj  Depth IntInf | Incumbent    BestBd   Gap | It/Node Time\n",
      "\n",
      "     0     0    0.00000    0  552          -    0.00000      -     -    0s\n",
      "     0     0    0.00000    0  552          -    0.00000      -     -    0s\n",
      "\n",
      "Cutting planes:\n",
      "  Implied bound: 230\n",
      "\n",
      "Explored 1 nodes (591 simplex iterations) in 0.12 seconds (0.02 work units)\n",
      "Thread count was 16 (of 16 available processors)\n",
      "\n",
      "Solution count 0\n",
      "\n",
      "Model is infeasible\n",
      "Best objective -, best bound -, gap -\n"
     ]
    }
   ],
   "source": [
    "m.optimize()"
   ]
  },
  {
   "cell_type": "code",
   "execution_count": null,
   "metadata": {},
   "outputs": [],
   "source": []
  }
 ],
 "metadata": {
  "kernelspec": {
   "display_name": "traffic",
   "language": "python",
   "name": "python3"
  },
  "language_info": {
   "codemirror_mode": {
    "name": "ipython",
    "version": 3
   },
   "file_extension": ".py",
   "mimetype": "text/x-python",
   "name": "python",
   "nbconvert_exporter": "python",
   "pygments_lexer": "ipython3",
   "version": "3.11.5"
  },
  "orig_nbformat": 4
 },
 "nbformat": 4,
 "nbformat_minor": 2
}
