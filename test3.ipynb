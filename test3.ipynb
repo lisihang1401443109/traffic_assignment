{
 "cells": [
  {
   "cell_type": "code",
   "execution_count": 1,
   "metadata": {},
   "outputs": [
    {
     "ename": "ImportError",
     "evalue": "cannot import name 'GRB' from 'gurobipy' (/home/vobbukyo/workspace/traffic_assignment/gurobipy.py)",
     "output_type": "error",
     "traceback": [
      "\u001b[0;31m---------------------------------------------------------------------------\u001b[0m",
      "\u001b[0;31mImportError\u001b[0m                               Traceback (most recent call last)",
      "\u001b[1;32m/home/vobbukyo/workspace/traffic_assignment/test3.ipynb Cell 1\u001b[0m line \u001b[0;36m1\n\u001b[0;32m----> <a href='vscode-notebook-cell://wsl%2Bubuntu/home/vobbukyo/workspace/traffic_assignment/test3.ipynb#W0sdnNjb2RlLXJlbW90ZQ%3D%3D?line=0'>1</a>\u001b[0m \u001b[39mimport\u001b[39;00m \u001b[39mrunner\u001b[39;00m\n",
      "File \u001b[0;32m~/workspace/traffic_assignment/runner.py:1\u001b[0m\n\u001b[0;32m----> 1\u001b[0m \u001b[39mfrom\u001b[39;00m \u001b[39mloader\u001b[39;00m \u001b[39mimport\u001b[39;00m \u001b[39m*\u001b[39m\n\u001b[1;32m      2\u001b[0m \u001b[39mfrom\u001b[39;00m \u001b[39mmodel\u001b[39;00m \u001b[39mimport\u001b[39;00m Problem\n\u001b[1;32m      3\u001b[0m \u001b[39mimport\u001b[39;00m \u001b[39mtime\u001b[39;00m\n",
      "File \u001b[0;32m~/workspace/traffic_assignment/loader.py:3\u001b[0m\n\u001b[1;32m      1\u001b[0m \u001b[39mimport\u001b[39;00m \u001b[39mos\u001b[39;00m\n\u001b[1;32m      2\u001b[0m \u001b[39mimport\u001b[39;00m \u001b[39mpandas\u001b[39;00m \u001b[39mas\u001b[39;00m \u001b[39mpd\u001b[39;00m\n\u001b[0;32m----> 3\u001b[0m \u001b[39mfrom\u001b[39;00m \u001b[39mmodel\u001b[39;00m \u001b[39mimport\u001b[39;00m \u001b[39m*\u001b[39m\n\u001b[1;32m      6\u001b[0m \u001b[39mdef\u001b[39;00m \u001b[39mload_from_folder\u001b[39m(folder \u001b[39m=\u001b[39m \u001b[39m'\u001b[39m\u001b[39m./inputs/SiouxFalls/\u001b[39m\u001b[39m'\u001b[39m):\n\u001b[1;32m      7\u001b[0m     input_folder \u001b[39m=\u001b[39m folder\n",
      "File \u001b[0;32m~/workspace/traffic_assignment/model.py:9\u001b[0m\n\u001b[1;32m      7\u001b[0m \u001b[39mimport\u001b[39;00m \u001b[39mrandom\u001b[39;00m\n\u001b[1;32m      8\u001b[0m \u001b[39mimport\u001b[39;00m \u001b[39mgurobipy\u001b[39;00m \u001b[39mas\u001b[39;00m \u001b[39mgrb\u001b[39;00m   \u001b[39m#type: ignore\u001b[39;00m\n\u001b[0;32m----> 9\u001b[0m \u001b[39mfrom\u001b[39;00m \u001b[39mgurobipy\u001b[39;00m \u001b[39mimport\u001b[39;00m GRB \u001b[39m#type: ignore\u001b[39;00m\n\u001b[1;32m     10\u001b[0m \u001b[39mimport\u001b[39;00m \u001b[39mnetworkx\u001b[39;00m \u001b[39mas\u001b[39;00m \u001b[39mnx\u001b[39;00m\n\u001b[1;32m     12\u001b[0m \u001b[39mimport\u001b[39;00m \u001b[39mtime\u001b[39;00m\n",
      "\u001b[0;31mImportError\u001b[0m: cannot import name 'GRB' from 'gurobipy' (/home/vobbukyo/workspace/traffic_assignment/gurobipy.py)"
     ]
    }
   ],
   "source": [
    "import runner"
   ]
  },
  {
   "cell_type": "code",
   "execution_count": 2,
   "metadata": {},
   "outputs": [
    {
     "name": "stdout",
     "output_type": "stream",
     "text": [
      "4 nodes, 5 links, \n",
      "1 OD pairs\n"
     ]
    }
   ],
   "source": [
    "p = runner.generate_problem(problem_name='Braess')"
   ]
  },
  {
   "cell_type": "code",
   "execution_count": 3,
   "metadata": {},
   "outputs": [
    {
     "name": "stdout",
     "output_type": "stream",
     "text": [
      "Set parameter Username\n",
      "Academic license - for non-commercial use only - expires 2024-09-21\n",
      "{(Node(1), Node(1)): 0, (Node(1), Node(3)): 1e-08, (Node(1), Node(4)): 10.00000001, (Node(1), Node(2)): 10.000000020000002, (Node(3), Node(1)): inf, (Node(3), Node(3)): 0, (Node(3), Node(4)): 10.0, (Node(3), Node(2)): 10.00000001, (Node(4), Node(1)): inf, (Node(4), Node(3)): inf, (Node(4), Node(4)): 0, (Node(4), Node(2)): 1e-08, (Node(2), Node(1)): inf, (Node(2), Node(3)): inf, (Node(2), Node(4)): inf, (Node(2), Node(2)): 0}\n"
     ]
    }
   ],
   "source": [
    "m = p.get_gp_model(5)"
   ]
  },
  {
   "cell_type": "code",
   "execution_count": 4,
   "metadata": {},
   "outputs": [],
   "source": [
    "m.update()"
   ]
  },
  {
   "cell_type": "code",
   "execution_count": 5,
   "metadata": {},
   "outputs": [],
   "source": [
    "m.write('model.lp')"
   ]
  },
  {
   "cell_type": "code",
   "execution_count": 6,
   "metadata": {},
   "outputs": [],
   "source": [
    "d = m.getVarByName('min_dist')"
   ]
  },
  {
   "cell_type": "code",
   "execution_count": 7,
   "metadata": {},
   "outputs": [
    {
     "name": "stdout",
     "output_type": "stream",
     "text": [
      "Gurobi Optimizer version 10.0.3 build v10.0.3rc0 (linux64)\n",
      "\n",
      "CPU model: AMD Ryzen 7 6800U with Radeon Graphics, instruction set [SSE2|AVX|AVX2]\n",
      "Thread count: 8 physical cores, 16 logical processors, using up to 16 threads\n",
      "\n",
      "Optimize a model with 5 rows, 24 columns and 8 nonzeros\n",
      "Model fingerprint: 0x86786acc\n",
      "Model has 28 general constraints\n",
      "Variable types: 20 continuous, 4 integer (4 binary)\n",
      "Coefficient statistics:\n",
      "  Matrix range     [1e+00, 1e+00]\n",
      "  Objective range  [1e+00, 1e+00]\n",
      "  Bounds range     [1e+00, 1e+00]\n",
      "  RHS range        [5e+00, 5e+00]\n",
      "  GenCon rhs range [1e-08, inf]\n",
      "  GenCon coe range [1e+00, 1e+00]\n",
      "Warning: Model contains large rhs on indicator constraints\n",
      "         Consider reformulating model or setting NumericFocus parameter\n",
      "         to avoid numerical issues.\n",
      "Presolve time: 0.00s\n",
      "\n",
      "Explored 0 nodes (0 simplex iterations) in 0.02 seconds (0.00 work units)\n",
      "Thread count was 1 (of 16 available processors)\n",
      "\n",
      "Solution count 0\n",
      "\n",
      "Model is infeasible\n",
      "Best objective -, best bound -, gap -\n"
     ]
    }
   ],
   "source": [
    "m.optimize()"
   ]
  },
  {
   "cell_type": "code",
   "execution_count": null,
   "metadata": {},
   "outputs": [],
   "source": []
  }
 ],
 "metadata": {
  "kernelspec": {
   "display_name": "traffic",
   "language": "python",
   "name": "python3"
  },
  "language_info": {
   "codemirror_mode": {
    "name": "ipython",
    "version": 3
   },
   "file_extension": ".py",
   "mimetype": "text/x-python",
   "name": "python",
   "nbconvert_exporter": "python",
   "pygments_lexer": "ipython3",
   "version": "3.11.5"
  },
  "orig_nbformat": 4
 },
 "nbformat": 4,
 "nbformat_minor": 2
}
