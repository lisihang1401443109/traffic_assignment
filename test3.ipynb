{
 "cells": [
  {
   "cell_type": "code",
   "execution_count": 11,
   "metadata": {},
   "outputs": [],
   "source": [
    "import runner\n",
    "import loader"
   ]
  },
  {
   "cell_type": "code",
   "execution_count": 12,
   "metadata": {},
   "outputs": [
    {
     "data": {
      "text/plain": [
       "(   init_node  term_node  capacity  length  free_flow_time             b  \\\n",
       " 0          1          3         1     100    1.000000e-08  1.000000e+09   \n",
       " 1          1          4         1     100    5.000000e+01  2.000000e-02   \n",
       " 2          3          2         1     100    5.000000e+01  2.000000e-02   \n",
       " 3          3          4         1     100    1.000000e+01  1.000000e-01   \n",
       " 4          4          2         1     100    1.000000e-08  1.000000e+09   \n",
       " 5          3          1         1     100    1.000000e+01  1.000000e-01   \n",
       " 6          2          1         1     100    1.000000e+01  1.000000e-01   \n",
       " \n",
       "    power  speed  toll link_type  \n",
       " 0      1      0     0     1   ;  \n",
       " 1      1      0     0     1   ;  \n",
       " 2      1      0     0     1   ;  \n",
       " 3      1      0     0     1   ;  \n",
       " 4      1      0     0     1   ;  \n",
       " 5      1      0     0         1  \n",
       " 6      1      0     0         1  ,\n",
       "    init_node  term_node  demand\n",
       " 0          1          2     6.0)"
      ]
     },
     "execution_count": 12,
     "metadata": {},
     "output_type": "execute_result"
    }
   ],
   "source": [
    "loader.load_from_folder('./inputs/test/')"
   ]
  },
  {
   "cell_type": "code",
   "execution_count": 13,
   "metadata": {},
   "outputs": [
    {
     "name": "stdout",
     "output_type": "stream",
     "text": [
      "4 nodes, 7 links, \n",
      "1 OD pairs\n"
     ]
    }
   ],
   "source": [
    "p = runner.generate_problem(problem_name='test')"
   ]
  },
  {
   "cell_type": "code",
   "execution_count": 14,
   "metadata": {},
   "outputs": [
    {
     "name": "stdout",
     "output_type": "stream",
     "text": [
      "{(Node(1), Node(1)): 0, (Node(1), Node(3)): 1e-08, (Node(1), Node(4)): 10.00000001, (Node(1), Node(2)): 10.000000020000002, (Node(3), Node(1)): 10.0, (Node(3), Node(3)): 0, (Node(3), Node(4)): 10.0, (Node(3), Node(2)): 10.00000001, (Node(4), Node(1)): 10.00000001, (Node(4), Node(3)): 10.000000020000002, (Node(4), Node(4)): 0, (Node(4), Node(2)): 1e-08, (Node(2), Node(1)): 10.0, (Node(2), Node(3)): 10.00000001, (Node(2), Node(4)): 20.00000001, (Node(2), Node(2)): 0}\n"
     ]
    }
   ],
   "source": [
    "m = p.get_gp_model(1)"
   ]
  },
  {
   "cell_type": "code",
   "execution_count": 15,
   "metadata": {},
   "outputs": [],
   "source": [
    "m.update()"
   ]
  },
  {
   "cell_type": "code",
   "execution_count": 16,
   "metadata": {},
   "outputs": [],
   "source": [
    "m.write('model.lp')"
   ]
  },
  {
   "cell_type": "code",
   "execution_count": 17,
   "metadata": {},
   "outputs": [],
   "source": [
    "d = m.getVarByName('min_dist')"
   ]
  },
  {
   "cell_type": "code",
   "execution_count": 18,
   "metadata": {},
   "outputs": [
    {
     "name": "stdout",
     "output_type": "stream",
     "text": [
      "Gurobi Optimizer version 10.0.3 build v10.0.3rc0 (linux64)\n",
      "\n",
      "CPU model: Intel(R) Core(TM) i7-9750H CPU @ 2.60GHz, instruction set [SSE2|AVX|AVX2]\n",
      "Thread count: 6 physical cores, 12 logical processors, using up to 12 threads\n",
      "\n",
      "Optimize a model with 5 rows, 28 columns and 8 nonzeros\n",
      "Model fingerprint: 0x4ea8b33d\n",
      "Model has 36 general constraints\n",
      "Variable types: 24 continuous, 4 integer (4 binary)\n",
      "Coefficient statistics:\n",
      "  Matrix range     [1e+00, 1e+00]\n",
      "  Objective range  [1e+00, 1e+00]\n",
      "  Bounds range     [1e+00, 1e+00]\n",
      "  RHS range        [3e+00, 3e+00]\n",
      "  GenCon rhs range [1e-08, 1e+100]\n",
      "  GenCon coe range [1e+00, 1e+00]\n",
      "Warning: Model contains large rhs on indicator constraints\n",
      "         Consider reformulating model or setting NumericFocus parameter\n",
      "         to avoid numerical issues.\n",
      "Presolve added 24 rows and 16 columns\n",
      "Presolve time: 0.00s\n",
      "Presolved: 29 rows, 44 columns, 60 nonzeros\n",
      "Presolved model has 24 SOS constraint(s)\n",
      "Variable types: 24 continuous, 20 integer (20 binary)\n",
      "\n",
      "Root relaxation: objective 0.000000e+00, 12 iterations, 0.00 seconds (0.00 work units)\n",
      "\n",
      "    Nodes    |    Current Node    |     Objective Bounds      |     Work\n",
      " Expl Unexpl |  Obj  Depth IntInf | Incumbent    BestBd   Gap | It/Node Time\n",
      "\n",
      "     0     0    0.00000    0   10          -    0.00000      -     -    0s\n",
      "     0     0    0.00000    0    6          -    0.00000      -     -    0s\n",
      "\n",
      "Cutting planes:\n",
      "  Implied bound: 10\n",
      "\n",
      "Explored 1 nodes (20 simplex iterations) in 0.03 seconds (0.00 work units)\n",
      "Thread count was 12 (of 12 available processors)\n",
      "\n",
      "Solution count 0\n",
      "\n",
      "Model is infeasible\n",
      "Best objective -, best bound -, gap -\n"
     ]
    }
   ],
   "source": [
    "m.optimize()"
   ]
  },
  {
   "cell_type": "code",
   "execution_count": 19,
   "metadata": {},
   "outputs": [
    {
     "name": "stdout",
     "output_type": "stream",
     "text": [
      "\n",
      "Computing Irreducible Inconsistent Subsystem (IIS)...\n",
      "\n",
      "           Constraints          |            Bounds           |  Runtime\n",
      "      Min       Max     Guess   |   Min       Max     Guess   |\n",
      "--------------------------------------------------------------------------\n",
      "        0        41         -         0        24         -           0s\n",
      "        5         5         5         2         2         2           0s\n",
      "\n",
      "IIS computed: 5 constraints, 2 bounds\n",
      "IIS runtime: 0.16 seconds (0.01 work units)\n"
     ]
    }
   ],
   "source": [
    "m.computeIIS()"
   ]
  },
  {
   "cell_type": "code",
   "execution_count": 20,
   "metadata": {},
   "outputs": [],
   "source": [
    "m.write('model.ilp')"
   ]
  },
  {
   "cell_type": "code",
   "execution_count": null,
   "metadata": {},
   "outputs": [],
   "source": []
  }
 ],
 "metadata": {
  "kernelspec": {
   "display_name": "traffic",
   "language": "python",
   "name": "python3"
  },
  "language_info": {
   "codemirror_mode": {
    "name": "ipython",
    "version": 3
   },
   "file_extension": ".py",
   "mimetype": "text/x-python",
   "name": "python",
   "nbconvert_exporter": "python",
   "pygments_lexer": "ipython3",
   "version": "3.11.5"
  },
  "orig_nbformat": 4
 },
 "nbformat": 4,
 "nbformat_minor": 2
}
