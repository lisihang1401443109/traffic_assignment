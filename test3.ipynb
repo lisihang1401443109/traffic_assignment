{
 "cells": [
  {
   "cell_type": "code",
   "execution_count": 1,
   "metadata": {},
   "outputs": [],
   "source": [
    "import runner"
   ]
  },
  {
   "cell_type": "code",
   "execution_count": 2,
   "metadata": {},
   "outputs": [
    {
     "name": "stdout",
     "output_type": "stream",
     "text": [
      "24 nodes, 76 links, \n",
      "576 OD pairs\n"
     ]
    }
   ],
   "source": [
    "p = runner.generate_problem(problem_name='Braess')"
   ]
  },
  {
   "cell_type": "code",
   "execution_count": 3,
   "metadata": {},
   "outputs": [
    {
     "name": "stdout",
     "output_type": "stream",
     "text": [
      "Set parameter Username\n",
      "Academic license - for non-commercial use only - expires 2024-09-21\n",
      "{(Node(1), Node(1)): 0, (Node(1), Node(2)): 6.0, (Node(1), Node(3)): 4.0, (Node(1), Node(6)): 11.0, (Node(1), Node(4)): 8.0, (Node(1), Node(12)): 8.0, (Node(1), Node(5)): 10.0, (Node(1), Node(11)): 14.0, (Node(1), Node(9)): 15.0, (Node(1), Node(8)): 13.0, (Node(1), Node(7)): 16.0, (Node(1), Node(18)): 18.0, (Node(1), Node(16)): 18.0, (Node(1), Node(10)): 18.0, (Node(1), Node(15)): 23.0, (Node(1), Node(17)): 20.0, (Node(1), Node(14)): 18.0, (Node(1), Node(13)): 11.0, (Node(1), Node(24)): 15.0, (Node(1), Node(23)): 17.0, (Node(1), Node(19)): 22.0, (Node(1), Node(22)): 20.0, (Node(1), Node(20)): 22.0, (Node(1), Node(21)): 18.0, (Node(2), Node(1)): 6.0, (Node(2), Node(2)): 0, (Node(2), Node(3)): 10.0, (Node(2), Node(6)): 5.0, (Node(2), Node(4)): 11.0, (Node(2), Node(12)): 14.0, (Node(2), Node(5)): 9.0, (Node(2), Node(11)): 17.0, (Node(2), Node(9)): 14.0, (Node(2), Node(8)): 7.0, (Node(2), Node(7)): 10.0, (Node(2), Node(18)): 12.0, (Node(2), Node(16)): 12.0, (Node(2), Node(10)): 16.0, (Node(2), Node(15)): 19.0, (Node(2), Node(17)): 14.0, (Node(2), Node(14)): 21.0, (Node(2), Node(13)): 17.0, (Node(2), Node(24)): 21.0, (Node(2), Node(23)): 23.0, (Node(2), Node(19)): 16.0, (Node(2), Node(22)): 21.0, (Node(2), Node(20)): 16.0, (Node(2), Node(21)): 22.0, (Node(3), Node(1)): 4.0, (Node(3), Node(2)): 10.0, (Node(3), Node(3)): 0, (Node(3), Node(6)): 10.0, (Node(3), Node(4)): 4.0, (Node(3), Node(12)): 4.0, (Node(3), Node(5)): 6.0, (Node(3), Node(11)): 10.0, (Node(3), Node(9)): 11.0, (Node(3), Node(8)): 12.0, (Node(3), Node(7)): 15.0, (Node(3), Node(18)): 17.0, (Node(3), Node(16)): 17.0, (Node(3), Node(10)): 14.0, (Node(3), Node(15)): 19.0, (Node(3), Node(17)): 19.0, (Node(3), Node(14)): 14.0, (Node(3), Node(13)): 7.0, (Node(3), Node(24)): 11.0, (Node(3), Node(23)): 13.0, (Node(3), Node(19)): 21.0, (Node(3), Node(22)): 16.0, (Node(3), Node(20)): 20.0, (Node(3), Node(21)): 14.0, (Node(6), Node(1)): 11.0, (Node(6), Node(2)): 5.0, (Node(6), Node(3)): 10.0, (Node(6), Node(6)): 0, (Node(6), Node(4)): 6.0, (Node(6), Node(12)): 14.0, (Node(6), Node(5)): 4.0, (Node(6), Node(11)): 12.0, (Node(6), Node(9)): 9.0, (Node(6), Node(8)): 2.0, (Node(6), Node(7)): 5.0, (Node(6), Node(18)): 7.0, (Node(6), Node(16)): 7.0, (Node(6), Node(10)): 11.0, (Node(6), Node(15)): 14.0, (Node(6), Node(17)): 9.0, (Node(6), Node(14)): 16.0, (Node(6), Node(13)): 17.0, (Node(6), Node(24)): 20.0, (Node(6), Node(23)): 20.0, (Node(6), Node(19)): 11.0, (Node(6), Node(22)): 16.0, (Node(6), Node(20)): 11.0, (Node(6), Node(21)): 17.0, (Node(4), Node(1)): 8.0, (Node(4), Node(2)): 11.0, (Node(4), Node(3)): 4.0, (Node(4), Node(6)): 6.0, (Node(4), Node(4)): 0, (Node(4), Node(12)): 8.0, (Node(4), Node(5)): 2.0, (Node(4), Node(11)): 6.0, (Node(4), Node(9)): 7.0, (Node(4), Node(8)): 8.0, (Node(4), Node(7)): 11.0, (Node(4), Node(18)): 13.0, (Node(4), Node(16)): 13.0, (Node(4), Node(10)): 10.0, (Node(4), Node(15)): 15.0, (Node(4), Node(17)): 15.0, (Node(4), Node(14)): 10.0, (Node(4), Node(13)): 11.0, (Node(4), Node(24)): 15.0, (Node(4), Node(23)): 14.0, (Node(4), Node(19)): 17.0, (Node(4), Node(22)): 18.0, (Node(4), Node(20)): 17.0, (Node(4), Node(21)): 18.0, (Node(12), Node(1)): 8.0, (Node(12), Node(2)): 14.0, (Node(12), Node(3)): 4.0, (Node(12), Node(6)): 14.0, (Node(12), Node(4)): 8.0, (Node(12), Node(12)): 0, (Node(12), Node(5)): 10.0, (Node(12), Node(11)): 6.0, (Node(12), Node(9)): 14.0, (Node(12), Node(8)): 16.0, (Node(12), Node(7)): 19.0, (Node(12), Node(18)): 18.0, (Node(12), Node(16)): 15.0, (Node(12), Node(10)): 11.0, (Node(12), Node(15)): 15.0, (Node(12), Node(17)): 17.0, (Node(12), Node(14)): 10.0, (Node(12), Node(13)): 3.0, (Node(12), Node(24)): 7.0, (Node(12), Node(23)): 9.0, (Node(12), Node(19)): 18.0, (Node(12), Node(22)): 12.0, (Node(12), Node(20)): 16.0, (Node(12), Node(21)): 10.0, (Node(5), Node(1)): 10.0, (Node(5), Node(2)): 9.0, (Node(5), Node(3)): 6.0, (Node(5), Node(6)): 4.0, (Node(5), Node(4)): 2.0, (Node(5), Node(12)): 10.0, (Node(5), Node(5)): 0, (Node(5), Node(11)): 8.0, (Node(5), Node(9)): 5.0, (Node(5), Node(8)): 6.0, (Node(5), Node(7)): 9.0, (Node(5), Node(18)): 11.0, (Node(5), Node(16)): 11.0, (Node(5), Node(10)): 8.0, (Node(5), Node(15)): 14.0, (Node(5), Node(17)): 13.0, (Node(5), Node(14)): 12.0, (Node(5), Node(13)): 13.0, (Node(5), Node(24)): 17.0, (Node(5), Node(23)): 16.0, (Node(5), Node(19)): 15.0, (Node(5), Node(22)): 17.0, (Node(5), Node(20)): 15.0, (Node(5), Node(21)): 19.0, (Node(11), Node(1)): 14.0, (Node(11), Node(2)): 17.0, (Node(11), Node(3)): 10.0, (Node(11), Node(6)): 12.0, (Node(11), Node(4)): 6.0, (Node(11), Node(12)): 6.0, (Node(11), Node(5)): 8.0, (Node(11), Node(11)): 0, (Node(11), Node(9)): 8.0, (Node(11), Node(8)): 14.0, (Node(11), Node(7)): 14.0, (Node(11), Node(18)): 12.0, (Node(11), Node(16)): 9.0, (Node(11), Node(10)): 5.0, (Node(11), Node(15)): 9.0, (Node(11), Node(17)): 11.0, (Node(11), Node(14)): 4.0, (Node(11), Node(13)): 9.0, (Node(11), Node(24)): 10.0, (Node(11), Node(23)): 8.0, (Node(11), Node(19)): 12.0, (Node(11), Node(22)): 12.0, (Node(11), Node(20)): 16.0, (Node(11), Node(21)): 13.0, (Node(9), Node(1)): 15.0, (Node(9), Node(2)): 14.0, (Node(9), Node(3)): 11.0, (Node(9), Node(6)): 9.0, (Node(9), Node(4)): 7.0, (Node(9), Node(12)): 14.0, (Node(9), Node(5)): 5.0, (Node(9), Node(11)): 8.0, (Node(9), Node(9)): 0, (Node(9), Node(8)): 10.0, (Node(9), Node(7)): 12.0, (Node(9), Node(18)): 10.0, (Node(9), Node(16)): 7.0, (Node(9), Node(10)): 3.0, (Node(9), Node(15)): 9.0, (Node(9), Node(17)): 9.0, (Node(9), Node(14)): 12.0, (Node(9), Node(13)): 17.0, (Node(9), Node(24)): 17.0, (Node(9), Node(23)): 16.0, (Node(9), Node(19)): 11.0, (Node(9), Node(22)): 12.0, (Node(9), Node(20)): 14.0, (Node(9), Node(21)): 14.0, (Node(8), Node(1)): 13.0, (Node(8), Node(2)): 7.0, (Node(8), Node(3)): 12.0, (Node(8), Node(6)): 2.0, (Node(8), Node(4)): 8.0, (Node(8), Node(12)): 16.0, (Node(8), Node(5)): 6.0, (Node(8), Node(11)): 14.0, (Node(8), Node(9)): 10.0, (Node(8), Node(8)): 0, (Node(8), Node(7)): 3.0, (Node(8), Node(18)): 5.0, (Node(8), Node(16)): 5.0, (Node(8), Node(10)): 9.0, (Node(8), Node(15)): 12.0, (Node(8), Node(17)): 7.0, (Node(8), Node(14)): 17.0, (Node(8), Node(13)): 19.0, (Node(8), Node(24)): 18.0, (Node(8), Node(23)): 18.0, (Node(8), Node(19)): 9.0, (Node(8), Node(22)): 14.0, (Node(8), Node(20)): 9.0, (Node(8), Node(21)): 15.0, (Node(7), Node(1)): 16.0, (Node(7), Node(2)): 10.0, (Node(7), Node(3)): 15.0, (Node(7), Node(6)): 5.0, (Node(7), Node(4)): 11.0, (Node(7), Node(12)): 19.0, (Node(7), Node(5)): 9.0, (Node(7), Node(11)): 14.0, (Node(7), Node(9)): 12.0, (Node(7), Node(8)): 3.0, (Node(7), Node(7)): 0, (Node(7), Node(18)): 2.0, (Node(7), Node(16)): 5.0, (Node(7), Node(10)): 9.0, (Node(7), Node(15)): 12.0, (Node(7), Node(17)): 7.0, (Node(7), Node(14)): 17.0, (Node(7), Node(13)): 19.0, (Node(7), Node(24)): 15.0, (Node(7), Node(23)): 15.0, (Node(7), Node(19)): 9.0, (Node(7), Node(22)): 11.0, (Node(7), Node(20)): 6.0, (Node(7), Node(21)): 12.0, (Node(18), Node(1)): 18.0, (Node(18), Node(2)): 12.0, (Node(18), Node(3)): 17.0, (Node(18), Node(6)): 7.0, (Node(18), Node(4)): 13.0, (Node(18), Node(12)): 18.0, (Node(18), Node(5)): 11.0, (Node(18), Node(11)): 12.0, (Node(18), Node(9)): 10.0, (Node(18), Node(8)): 5.0, (Node(18), Node(7)): 2.0, (Node(18), Node(18)): 0, (Node(18), Node(16)): 3.0, (Node(18), Node(10)): 7.0, (Node(18), Node(15)): 10.0, (Node(18), Node(17)): 5.0, (Node(18), Node(14)): 15.0, (Node(18), Node(13)): 17.0, (Node(18), Node(24)): 13.0, (Node(18), Node(23)): 13.0, (Node(18), Node(19)): 7.0, (Node(18), Node(22)): 9.0, (Node(18), Node(20)): 4.0, (Node(18), Node(21)): 10.0, (Node(16), Node(1)): 18.0, (Node(16), Node(2)): 12.0, (Node(16), Node(3)): 17.0, (Node(16), Node(6)): 7.0, (Node(16), Node(4)): 13.0, (Node(16), Node(12)): 15.0, (Node(16), Node(5)): 11.0, (Node(16), Node(11)): 9.0, (Node(16), Node(9)): 7.0, (Node(16), Node(8)): 5.0, (Node(16), Node(7)): 5.0, (Node(16), Node(18)): 3.0, (Node(16), Node(16)): 0, (Node(16), Node(10)): 4.0, (Node(16), Node(15)): 7.0, (Node(16), Node(17)): 2.0, (Node(16), Node(14)): 12.0, (Node(16), Node(13)): 18.0, (Node(16), Node(24)): 15.0, (Node(16), Node(23)): 14.0, (Node(16), Node(19)): 4.0, (Node(16), Node(22)): 10.0, (Node(16), Node(20)): 7.0, (Node(16), Node(21)): 12.0, (Node(10), Node(1)): 18.0, (Node(10), Node(2)): 16.0, (Node(10), Node(3)): 14.0, (Node(10), Node(6)): 11.0, (Node(10), Node(4)): 10.0, (Node(10), Node(12)): 11.0, (Node(10), Node(5)): 8.0, (Node(10), Node(11)): 5.0, (Node(10), Node(9)): 3.0, (Node(10), Node(8)): 9.0, (Node(10), Node(7)): 9.0, (Node(10), Node(18)): 7.0, (Node(10), Node(16)): 4.0, (Node(10), Node(10)): 0, (Node(10), Node(15)): 6.0, (Node(10), Node(17)): 6.0, (Node(10), Node(14)): 9.0, (Node(10), Node(13)): 14.0, (Node(10), Node(24)): 14.0, (Node(10), Node(23)): 13.0, (Node(10), Node(19)): 8.0, (Node(10), Node(22)): 9.0, (Node(10), Node(20)): 11.0, (Node(10), Node(21)): 11.0, (Node(15), Node(1)): 23.0, (Node(15), Node(2)): 19.0, (Node(15), Node(3)): 19.0, (Node(15), Node(6)): 14.0, (Node(15), Node(4)): 15.0, (Node(15), Node(12)): 15.0, (Node(15), Node(5)): 14.0, (Node(15), Node(11)): 9.0, (Node(15), Node(9)): 9.0, (Node(15), Node(8)): 12.0, (Node(15), Node(7)): 12.0, (Node(15), Node(18)): 10.0, (Node(15), Node(16)): 7.0, (Node(15), Node(10)): 6.0, (Node(15), Node(15)): 0, (Node(15), Node(17)): 5.0, (Node(15), Node(14)): 5.0, (Node(15), Node(13)): 12.0, (Node(15), Node(24)): 8.0, (Node(15), Node(23)): 7.0, (Node(15), Node(19)): 3.0, (Node(15), Node(22)): 3.0, (Node(15), Node(20)): 7.0, (Node(15), Node(21)): 5.0, (Node(17), Node(1)): 20.0, (Node(17), Node(2)): 14.0, (Node(17), Node(3)): 19.0, (Node(17), Node(6)): 9.0, (Node(17), Node(4)): 15.0, (Node(17), Node(12)): 17.0, (Node(17), Node(5)): 13.0, (Node(17), Node(11)): 11.0, (Node(17), Node(9)): 9.0, (Node(17), Node(8)): 7.0, (Node(17), Node(7)): 7.0, (Node(17), Node(18)): 5.0, (Node(17), Node(16)): 2.0, (Node(17), Node(10)): 6.0, (Node(17), Node(15)): 5.0, (Node(17), Node(17)): 0, (Node(17), Node(14)): 10.0, (Node(17), Node(13)): 17.0, (Node(17), Node(24)): 13.0, (Node(17), Node(23)): 12.0, (Node(17), Node(19)): 2.0, (Node(17), Node(22)): 8.0, (Node(17), Node(20)): 6.0, (Node(17), Node(21)): 10.0, (Node(14), Node(1)): 18.0, (Node(14), Node(2)): 21.0, (Node(14), Node(3)): 14.0, (Node(14), Node(6)): 16.0, (Node(14), Node(4)): 10.0, (Node(14), Node(12)): 10.0, (Node(14), Node(5)): 12.0, (Node(14), Node(11)): 4.0, (Node(14), Node(9)): 12.0, (Node(14), Node(8)): 17.0, (Node(14), Node(7)): 17.0, (Node(14), Node(18)): 15.0, (Node(14), Node(16)): 12.0, (Node(14), Node(10)): 9.0, (Node(14), Node(15)): 5.0, (Node(14), Node(17)): 10.0, (Node(14), Node(14)): 0, (Node(14), Node(13)): 10.0, (Node(14), Node(24)): 6.0, (Node(14), Node(23)): 4.0, (Node(14), Node(19)): 8.0, (Node(14), Node(22)): 8.0, (Node(14), Node(20)): 12.0, (Node(14), Node(21)): 9.0, (Node(13), Node(1)): 11.0, (Node(13), Node(2)): 17.0, (Node(13), Node(3)): 7.0, (Node(13), Node(6)): 17.0, (Node(13), Node(4)): 11.0, (Node(13), Node(12)): 3.0, (Node(13), Node(5)): 13.0, (Node(13), Node(11)): 9.0, (Node(13), Node(9)): 17.0, (Node(13), Node(8)): 19.0, (Node(13), Node(7)): 19.0, (Node(13), Node(18)): 17.0, (Node(13), Node(16)): 18.0, (Node(13), Node(10)): 14.0, (Node(13), Node(15)): 12.0, (Node(13), Node(17)): 17.0, (Node(13), Node(14)): 10.0, (Node(13), Node(13)): 0, (Node(13), Node(24)): 4.0, (Node(13), Node(23)): 6.0, (Node(13), Node(19)): 15.0, (Node(13), Node(22)): 9.0, (Node(13), Node(20)): 13.0, (Node(13), Node(21)): 7.0, (Node(24), Node(1)): 15.0, (Node(24), Node(2)): 21.0, (Node(24), Node(3)): 11.0, (Node(24), Node(6)): 20.0, (Node(24), Node(4)): 15.0, (Node(24), Node(12)): 7.0, (Node(24), Node(5)): 17.0, (Node(24), Node(11)): 10.0, (Node(24), Node(9)): 17.0, (Node(24), Node(8)): 18.0, (Node(24), Node(7)): 15.0, (Node(24), Node(18)): 13.0, (Node(24), Node(16)): 15.0, (Node(24), Node(10)): 14.0, (Node(24), Node(15)): 8.0, (Node(24), Node(17)): 13.0, (Node(24), Node(14)): 6.0, (Node(24), Node(13)): 4.0, (Node(24), Node(24)): 0, (Node(24), Node(23)): 2.0, (Node(24), Node(19)): 11.0, (Node(24), Node(22)): 5.0, (Node(24), Node(20)): 9.0, (Node(24), Node(21)): 3.0, (Node(23), Node(1)): 17.0, (Node(23), Node(2)): 23.0, (Node(23), Node(3)): 13.0, (Node(23), Node(6)): 20.0, (Node(23), Node(4)): 14.0, (Node(23), Node(12)): 9.0, (Node(23), Node(5)): 16.0, (Node(23), Node(11)): 8.0, (Node(23), Node(9)): 16.0, (Node(23), Node(8)): 18.0, (Node(23), Node(7)): 15.0, (Node(23), Node(18)): 13.0, (Node(23), Node(16)): 14.0, (Node(23), Node(10)): 13.0, (Node(23), Node(15)): 7.0, (Node(23), Node(17)): 12.0, (Node(23), Node(14)): 4.0, (Node(23), Node(13)): 6.0, (Node(23), Node(24)): 2.0, (Node(23), Node(23)): 0, (Node(23), Node(19)): 10.0, (Node(23), Node(22)): 4.0, (Node(23), Node(20)): 9.0, (Node(23), Node(21)): 5.0, (Node(19), Node(1)): 22.0, (Node(19), Node(2)): 16.0, (Node(19), Node(3)): 21.0, (Node(19), Node(6)): 11.0, (Node(19), Node(4)): 17.0, (Node(19), Node(12)): 18.0, (Node(19), Node(5)): 15.0, (Node(19), Node(11)): 12.0, (Node(19), Node(9)): 11.0, (Node(19), Node(8)): 9.0, (Node(19), Node(7)): 9.0, (Node(19), Node(18)): 7.0, (Node(19), Node(16)): 4.0, (Node(19), Node(10)): 8.0, (Node(19), Node(15)): 3.0, (Node(19), Node(17)): 2.0, (Node(19), Node(14)): 8.0, (Node(19), Node(13)): 15.0, (Node(19), Node(24)): 11.0, (Node(19), Node(23)): 10.0, (Node(19), Node(19)): 0, (Node(19), Node(22)): 6.0, (Node(19), Node(20)): 4.0, (Node(19), Node(21)): 8.0, (Node(22), Node(1)): 20.0, (Node(22), Node(2)): 21.0, (Node(22), Node(3)): 16.0, (Node(22), Node(6)): 16.0, (Node(22), Node(4)): 18.0, (Node(22), Node(12)): 12.0, (Node(22), Node(5)): 17.0, (Node(22), Node(11)): 12.0, (Node(22), Node(9)): 12.0, (Node(22), Node(8)): 14.0, (Node(22), Node(7)): 11.0, (Node(22), Node(18)): 9.0, (Node(22), Node(16)): 10.0, (Node(22), Node(10)): 9.0, (Node(22), Node(15)): 3.0, (Node(22), Node(17)): 8.0, (Node(22), Node(14)): 8.0, (Node(22), Node(13)): 9.0, (Node(22), Node(24)): 5.0, (Node(22), Node(23)): 4.0, (Node(22), Node(19)): 6.0, (Node(22), Node(22)): 0, (Node(22), Node(20)): 5.0, (Node(22), Node(21)): 2.0, (Node(20), Node(1)): 22.0, (Node(20), Node(2)): 16.0, (Node(20), Node(3)): 20.0, (Node(20), Node(6)): 11.0, (Node(20), Node(4)): 17.0, (Node(20), Node(12)): 16.0, (Node(20), Node(5)): 15.0, (Node(20), Node(11)): 16.0, (Node(20), Node(9)): 14.0, (Node(20), Node(8)): 9.0, (Node(20), Node(7)): 6.0, (Node(20), Node(18)): 4.0, (Node(20), Node(16)): 7.0, (Node(20), Node(10)): 11.0, (Node(20), Node(15)): 7.0, (Node(20), Node(17)): 6.0, (Node(20), Node(14)): 12.0, (Node(20), Node(13)): 13.0, (Node(20), Node(24)): 9.0, (Node(20), Node(23)): 9.0, (Node(20), Node(19)): 4.0, (Node(20), Node(22)): 5.0, (Node(20), Node(20)): 0, (Node(20), Node(21)): 6.0, (Node(21), Node(1)): 18.0, (Node(21), Node(2)): 22.0, (Node(21), Node(3)): 14.0, (Node(21), Node(6)): 17.0, (Node(21), Node(4)): 18.0, (Node(21), Node(12)): 10.0, (Node(21), Node(5)): 19.0, (Node(21), Node(11)): 13.0, (Node(21), Node(9)): 14.0, (Node(21), Node(8)): 15.0, (Node(21), Node(7)): 12.0, (Node(21), Node(18)): 10.0, (Node(21), Node(16)): 12.0, (Node(21), Node(10)): 11.0, (Node(21), Node(15)): 5.0, (Node(21), Node(17)): 10.0, (Node(21), Node(14)): 9.0, (Node(21), Node(13)): 7.0, (Node(21), Node(24)): 3.0, (Node(21), Node(23)): 5.0, (Node(21), Node(19)): 8.0, (Node(21), Node(22)): 2.0, (Node(21), Node(20)): 6.0, (Node(21), Node(21)): 0}\n"
     ]
    }
   ],
   "source": [
    "m = p.get_gp_model(5)"
   ]
  },
  {
   "cell_type": "code",
   "execution_count": 4,
   "metadata": {},
   "outputs": [],
   "source": [
    "m.update()"
   ]
  },
  {
   "cell_type": "code",
   "execution_count": 5,
   "metadata": {},
   "outputs": [],
   "source": [
    "m.write('model.lp')"
   ]
  },
  {
   "cell_type": "code",
   "execution_count": 6,
   "metadata": {},
   "outputs": [],
   "source": [
    "d = m.getVarByName('min_dist')"
   ]
  },
  {
   "cell_type": "code",
   "execution_count": 7,
   "metadata": {},
   "outputs": [
    {
     "name": "stdout",
     "output_type": "stream",
     "text": [
      "Gurobi Optimizer version 10.0.3 build v10.0.3rc0 (linux64)\n",
      "\n",
      "CPU model: AMD Ryzen 7 6800U with Radeon Graphics, instruction set [SSE2|AVX|AVX2]\n",
      "Thread count: 8 physical cores, 16 logical processors, using up to 16 threads\n",
      "\n",
      "Optimize a model with 25 rows, 624 columns and 48 nonzeros\n",
      "Model fingerprint: 0xc8039f40\n",
      "Model has 1128 general constraints\n",
      "Variable types: 600 continuous, 24 integer (24 binary)\n",
      "Coefficient statistics:\n",
      "  Matrix range     [1e+00, 1e+00]\n",
      "  Objective range  [1e+00, 1e+00]\n",
      "  Bounds range     [1e+00, 1e+00]\n",
      "  RHS range        [5e+00, 5e+00]\n",
      "  GenCon rhs range [2e+00, 1e+100]\n",
      "  GenCon coe range [1e+00, 1e+00]\n",
      "Warning: Model contains large rhs on indicator constraints\n",
      "         Consider reformulating model or setting NumericFocus parameter\n",
      "         to avoid numerical issues.\n",
      "Presolve added 1080 rows and 1056 columns\n",
      "Presolve time: 0.01s\n",
      "Presolved: 1105 rows, 1680 columns, 2232 nonzeros\n",
      "Presolved model has 1104 SOS constraint(s)\n",
      "Variable types: 1104 continuous, 576 integer (576 binary)\n",
      "\n",
      "Root relaxation: objective 0.000000e+00, 554 iterations, 0.00 seconds (0.00 work units)\n",
      "\n",
      "    Nodes    |    Current Node    |     Objective Bounds      |     Work\n",
      " Expl Unexpl |  Obj  Depth IntInf | Incumbent    BestBd   Gap | It/Node Time\n",
      "\n",
      "     0     0    0.00000    0  552          -    0.00000      -     -    0s\n",
      "     0     0    0.00000    0  552          -    0.00000      -     -    0s\n",
      "\n",
      "Cutting planes:\n",
      "  Implied bound: 230\n",
      "\n",
      "Explored 1 nodes (591 simplex iterations) in 0.12 seconds (0.02 work units)\n",
      "Thread count was 16 (of 16 available processors)\n",
      "\n",
      "Solution count 0\n",
      "\n",
      "Model is infeasible\n",
      "Best objective -, best bound -, gap -\n"
     ]
    }
   ],
   "source": [
    "m.optimize()"
   ]
  },
  {
   "cell_type": "code",
   "execution_count": null,
   "metadata": {},
   "outputs": [],
   "source": []
  }
 ],
 "metadata": {
  "kernelspec": {
   "display_name": "traffic",
   "language": "python",
   "name": "python3"
  },
  "language_info": {
   "codemirror_mode": {
    "name": "ipython",
    "version": 3
   },
   "file_extension": ".py",
   "mimetype": "text/x-python",
   "name": "python",
   "nbconvert_exporter": "python",
   "pygments_lexer": "ipython3",
   "version": "3.11.5"
  },
  "orig_nbformat": 4
 },
 "nbformat": 4,
 "nbformat_minor": 2
}
