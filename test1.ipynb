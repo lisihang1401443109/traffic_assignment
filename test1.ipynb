{
 "cells": [
  {
   "cell_type": "code",
   "execution_count": 5,
   "metadata": {},
   "outputs": [],
   "source": [
    "import runner"
   ]
  },
  {
   "cell_type": "code",
   "execution_count": 6,
   "metadata": {},
   "outputs": [
    {
     "ename": "IndexError",
     "evalue": "list index out of range",
     "output_type": "error",
     "traceback": [
      "\u001b[0;31m---------------------------------------------------------------------------\u001b[0m",
      "\u001b[0;31mIndexError\u001b[0m                                Traceback (most recent call last)",
      "Cell \u001b[0;32mIn[6], line 1\u001b[0m\n\u001b[0;32m----> 1\u001b[0m runner\u001b[39m.\u001b[39;49mcompare_xfc_exe_time()\n",
      "File \u001b[0;32m~/workspace/traffic_proj/runner.py:85\u001b[0m, in \u001b[0;36mcompare_xfc_exe_time\u001b[0;34m(root_folder, xfc_ratios)\u001b[0m\n\u001b[1;32m     83\u001b[0m exe_times \u001b[39m=\u001b[39m {}\n\u001b[1;32m     84\u001b[0m \u001b[39mfor\u001b[39;00m xfc_ratio \u001b[39min\u001b[39;00m xfc_ratios:\n\u001b[0;32m---> 85\u001b[0m     experiment \u001b[39m=\u001b[39m Experiment(input_path \u001b[39m=\u001b[39;49m in_path, output_path \u001b[39m=\u001b[39;49m out_path, algorithm \u001b[39m=\u001b[39;49m \u001b[39m'\u001b[39;49m\u001b[39mdijkstra\u001b[39;49m\u001b[39m'\u001b[39;49m, method \u001b[39m=\u001b[39;49m \u001b[39m'\u001b[39;49m\u001b[39mautomatic\u001b[39;49m\u001b[39m'\u001b[39;49m, alpha\u001b[39m=\u001b[39;49mALPHA, threshold\u001b[39m=\u001b[39;49mTHRESHOLD, maxIter \u001b[39m=\u001b[39;49m MAXITER, xfc\u001b[39m=\u001b[39;49m\u001b[39mTrue\u001b[39;49;00m, verbose\u001b[39m=\u001b[39;49m\u001b[39mFalse\u001b[39;49;00m)\n\u001b[1;32m     86\u001b[0m     experiment\u001b[39m.\u001b[39mp\u001b[39m.\u001b[39mdetermine_xfc(xfc_ratio)\n\u001b[1;32m     87\u001b[0m     exe_time \u001b[39m=\u001b[39m experiment\u001b[39m.\u001b[39mexe_time()\n",
      "File \u001b[0;32m~/workspace/traffic_proj/runner.py:14\u001b[0m, in \u001b[0;36mExperiment.__init__\u001b[0;34m(self, input_path, output_path, algorithm, method, xfc, alpha, threshold, maxIter, verbose)\u001b[0m\n\u001b[1;32m     13\u001b[0m \u001b[39mdef\u001b[39;00m \u001b[39m__init__\u001b[39m(\u001b[39mself\u001b[39m, input_path: \u001b[39mstr\u001b[39m, output_path: \u001b[39mstr\u001b[39m, algorithm \u001b[39m=\u001b[39m \u001b[39m'\u001b[39m\u001b[39mdijkstra\u001b[39m\u001b[39m'\u001b[39m, method \u001b[39m=\u001b[39m \u001b[39m'\u001b[39m\u001b[39mautomatic\u001b[39m\u001b[39m'\u001b[39m, xfc \u001b[39m=\u001b[39m [], alpha\u001b[39m=\u001b[39m\u001b[39m0.15\u001b[39m, threshold\u001b[39m=\u001b[39m\u001b[39m0.05\u001b[39m, maxIter \u001b[39m=\u001b[39m \u001b[39m20\u001b[39m, verbose \u001b[39m=\u001b[39m \u001b[39mTrue\u001b[39;00m) \u001b[39m-\u001b[39m\u001b[39m>\u001b[39m \u001b[39mNone\u001b[39;00m:\n\u001b[0;32m---> 14\u001b[0m     G, D \u001b[39m=\u001b[39m create_graph_and_demands_from_inputs(\u001b[39m*\u001b[39m\u001b[39mlist\u001b[39m(load_from_folder(input_path)))\n\u001b[1;32m     15\u001b[0m     \u001b[39mself\u001b[39m\u001b[39m.\u001b[39minput_path \u001b[39m=\u001b[39m input_path\n\u001b[1;32m     16\u001b[0m     \u001b[39mself\u001b[39m\u001b[39m.\u001b[39moutput_path \u001b[39m=\u001b[39m output_path\n",
      "File \u001b[0;32m~/workspace/traffic_proj/loader.py:9\u001b[0m, in \u001b[0;36mload_from_folder\u001b[0;34m(folder)\u001b[0m\n\u001b[1;32m      6\u001b[0m \u001b[39mdef\u001b[39;00m \u001b[39mload_from_folder\u001b[39m(folder \u001b[39m=\u001b[39m \u001b[39m'\u001b[39m\u001b[39m./inputs/SiouxFalls/\u001b[39m\u001b[39m'\u001b[39m):\n\u001b[1;32m      7\u001b[0m     input_folder \u001b[39m=\u001b[39m folder\n\u001b[0;32m----> 9\u001b[0m     net \u001b[39m=\u001b[39m input_folder \u001b[39m+\u001b[39m [i  \u001b[39mfor\u001b[39;49;00m i \u001b[39min\u001b[39;49;00m os\u001b[39m.\u001b[39;49mlistdir(input_folder) \u001b[39mif\u001b[39;49;00m \u001b[39m'\u001b[39;49m\u001b[39mnet\u001b[39;49m\u001b[39m'\u001b[39;49m \u001b[39min\u001b[39;49;00m i][\u001b[39m0\u001b[39;49m]\n\u001b[1;32m     10\u001b[0m     trips \u001b[39m=\u001b[39m input_folder \u001b[39m+\u001b[39m [i \u001b[39mfor\u001b[39;00m i \u001b[39min\u001b[39;00m os\u001b[39m.\u001b[39mlistdir(input_folder) \u001b[39mif\u001b[39;00m \u001b[39m'\u001b[39m\u001b[39mtrips\u001b[39m\u001b[39m'\u001b[39m \u001b[39min\u001b[39;00m i][\u001b[39m0\u001b[39m]\n\u001b[1;32m     12\u001b[0m     net_df \u001b[39m=\u001b[39m pd\u001b[39m.\u001b[39mread_csv(net, sep\u001b[39m=\u001b[39m\u001b[39m'\u001b[39m\u001b[39m\\t\u001b[39;00m\u001b[39m'\u001b[39m)\n",
      "\u001b[0;31mIndexError\u001b[0m: list index out of range"
     ]
    }
   ],
   "source": [
    "runner.compare_xfc_exe_time()"
   ]
  },
  {
   "cell_type": "code",
   "execution_count": 3,
   "metadata": {},
   "outputs": [
    {
     "data": {
      "text/plain": [
       "'/home/sihang/workspace/traffic_proj'"
      ]
     },
     "execution_count": 3,
     "metadata": {},
     "output_type": "execute_result"
    }
   ],
   "source": [
    "%pwd"
   ]
  },
  {
   "cell_type": "code",
   "execution_count": null,
   "metadata": {},
   "outputs": [],
   "source": []
  }
 ],
 "metadata": {
  "kernelspec": {
   "display_name": "traffic",
   "language": "python",
   "name": "python3"
  },
  "language_info": {
   "codemirror_mode": {
    "name": "ipython",
    "version": 3
   },
   "file_extension": ".py",
   "mimetype": "text/x-python",
   "name": "python",
   "nbconvert_exporter": "python",
   "pygments_lexer": "ipython3",
   "version": "3.11.4"
  },
  "orig_nbformat": 4
 },
 "nbformat": 4,
 "nbformat_minor": 2
}
