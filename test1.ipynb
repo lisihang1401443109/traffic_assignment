{
 "cells": [
  {
   "cell_type": "code",
   "execution_count": 1,
   "metadata": {},
   "outputs": [],
   "source": [
    "import runner"
   ]
  },
  {
   "cell_type": "code",
   "execution_count": 2,
   "metadata": {},
   "outputs": [
    {
     "name": "stdout",
     "output_type": "stream",
     "text": [
      "416 nodes, 914 links, \n",
      "1406 OD pairs\n"
     ]
    }
   ],
   "source": [
    "p = runner.generate_problem()"
   ]
  },
  {
   "cell_type": "code",
   "execution_count": 3,
   "metadata": {},
   "outputs": [
    {
     "name": "stdout",
     "output_type": "stream",
     "text": [
      "Set parameter Username\n"
     ]
    },
    {
     "ename": "TypeError",
     "evalue": "unsupported operand type(s) for ** or pow(): 'Var' and 'float'",
     "output_type": "error",
     "traceback": [
      "\u001b[0;31m---------------------------------------------------------------------------\u001b[0m",
      "\u001b[0;31mTypeError\u001b[0m                                 Traceback (most recent call last)",
      "\u001b[1;32m/home/sihang/workspace/traffic_proj/test1.ipynb Cell 3\u001b[0m line \u001b[0;36m1\n\u001b[0;32m----> <a href='vscode-notebook-cell://wsl%2Bubuntu/home/sihang/workspace/traffic_proj/test1.ipynb#W5sdnNjb2RlLXJlbW90ZQ%3D%3D?line=0'>1</a>\u001b[0m p\u001b[39m.\u001b[39;49mget_gp_model()\n",
      "File \u001b[0;32m~/workspace/traffic_proj/model.py:573\u001b[0m, in \u001b[0;36mProblem.get_gp_model\u001b[0;34m(self)\u001b[0m\n\u001b[1;32m    571\u001b[0m     m\u001b[39m.\u001b[39maddConstr(temp_dict[link] \u001b[39m==\u001b[39m flow_dict[link] \u001b[39m/\u001b[39m link\u001b[39m.\u001b[39mcapacity, name\u001b[39m=\u001b[39m\u001b[39mf\u001b[39m\u001b[39m'\u001b[39m\u001b[39mflow_\u001b[39m\u001b[39m{\u001b[39;00mlink\u001b[39m.\u001b[39mstart\u001b[39m.\u001b[39mid\u001b[39m}\u001b[39;00m\u001b[39m_\u001b[39m\u001b[39m{\u001b[39;00mlink\u001b[39m.\u001b[39mend\u001b[39m.\u001b[39mid\u001b[39m}\u001b[39;00m\u001b[39m'\u001b[39m)\n\u001b[1;32m    572\u001b[0m     \u001b[39m# BPR_constraints\u001b[39;00m\n\u001b[0;32m--> 573\u001b[0m     m\u001b[39m.\u001b[39maddConstr(link\u001b[39m.\u001b[39mfft \u001b[39m*\u001b[39m (\u001b[39m1\u001b[39m \u001b[39m+\u001b[39m link\u001b[39m.\u001b[39malpha \u001b[39m*\u001b[39m \u001b[39mpow\u001b[39;49m(temp_dict[link], link\u001b[39m.\u001b[39;49mbeta)) \u001b[39m==\u001b[39m time_dict[link], name\u001b[39m=\u001b[39m\u001b[39mf\u001b[39m\u001b[39m'\u001b[39m\u001b[39mBPR_\u001b[39m\u001b[39m{\u001b[39;00mlink\u001b[39m.\u001b[39mstart\u001b[39m.\u001b[39mid\u001b[39m}\u001b[39;00m\u001b[39m_\u001b[39m\u001b[39m{\u001b[39;00mlink\u001b[39m.\u001b[39mend\u001b[39m.\u001b[39mid\u001b[39m}\u001b[39;00m\u001b[39m'\u001b[39m)\n\u001b[1;32m    577\u001b[0m \u001b[39m# constraint for each OD pair\u001b[39;00m\n\u001b[1;32m    578\u001b[0m origins \u001b[39m=\u001b[39m {}\n",
      "\u001b[0;31mTypeError\u001b[0m: unsupported operand type(s) for ** or pow(): 'Var' and 'float'"
     ]
    }
   ],
   "source": [
    "p.get_gp_model()"
   ]
  },
  {
   "cell_type": "code",
   "execution_count": null,
   "metadata": {},
   "outputs": [],
   "source": []
  }
 ],
 "metadata": {
  "kernelspec": {
   "display_name": "traffic",
   "language": "python",
   "name": "python3"
  },
  "language_info": {
   "codemirror_mode": {
    "name": "ipython",
    "version": 3
   },
   "file_extension": ".py",
   "mimetype": "text/x-python",
   "name": "python",
   "nbconvert_exporter": "python",
   "pygments_lexer": "ipython3",
   "version": "3.11.4"
  },
  "orig_nbformat": 4
 },
 "nbformat": 4,
 "nbformat_minor": 2
}
